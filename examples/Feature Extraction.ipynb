{
 "cells": [
  {
   "cell_type": "markdown",
   "metadata": {},
   "source": [
    "# Graph Feature Extraction\n",
    "\n",
    "This library has several independent modules that can be used for different tasks.\n",
    "In this notebook we are going to present the feature extraction module."
   ]
  },
  {
   "cell_type": "code",
   "execution_count": 1,
   "metadata": {},
   "outputs": [],
   "source": [
    "from anomalous_vertices_detection.feature_controller import FeatureController\n",
    "from anomalous_vertices_detection.datasets.academia import load_data"
   ]
  },
  {
   "cell_type": "markdown",
   "metadata": {},
   "source": [
    "### Data loading\n",
    "First we will load a graph, in this scenario we are using load_data to load academia.edu graph"
   ]
  },
  {
   "cell_type": "code",
   "execution_count": 12,
   "metadata": {
    "scrolled": true
   },
   "outputs": [
    {
     "name": "stdout",
     "output_type": "stream",
     "text": [
      "Loading graph...\n",
      "Data loaded.\n"
     ]
    }
   ],
   "source": [
    "labels = {\"neg\": \"Real\", \"pos\": \"Fake\"}\n",
    "\n",
    "my_graph, dataset_config = load_data(labels_map=labels, package=\"GraphLab\")"
   ]
  },
  {
   "cell_type": "markdown",
   "metadata": {},
   "source": [
    "### Feature Extraction\n",
    "Now we are going to init the FeatureController which is an object that manges all the graph feature extraction process."
   ]
  },
  {
   "cell_type": "code",
   "execution_count": null,
   "metadata": {},
   "outputs": [],
   "source": [
    "features = FeatureController(my_graph)"
   ]
  },
  {
   "cell_type": "markdown",
   "metadata": {},
   "source": [
    "Our package includes several presets of features.\n",
    "The extract_features function expects to get a dictionary that maps the type of the feature, save name, and the function name that should be executed.\n",
    "We are going to use fast_link_features which contains fast computational features based on the works of Fire et al. and Chuk..."
   ]
  },
  {
   "cell_type": "code",
   "execution_count": null,
   "metadata": {},
   "outputs": [],
   "source": [
    "from anomalous_vertices_detection.configs.predefined_features_sets import fast_link_features\n",
    "\n",
    "fast_link_features"
   ]
  },
  {
   "cell_type": "markdown",
   "metadata": {},
   "source": [
    "###  Edge Feature extraction\n",
    "extract_features_to_file saves the results in a file in order to allow extracting features without a memory bound."
   ]
  },
  {
   "cell_type": "code",
   "execution_count": null,
   "metadata": {},
   "outputs": [],
   "source": [
    "edges_output_path = \"../output/\" + dataset_config.name + \"_edges.csv\"\n",
    "\n",
    "features.extract_features_to_file(my_graph.edges[:1000], fast_link_features[my_graph.is_directed], edges_output_path)"
   ]
  },
  {
   "cell_type": "code",
   "execution_count": null,
   "metadata": {
    "scrolled": true
   },
   "outputs": [],
   "source": [
    "import pandas as pd\n",
    "edges_df = pd.read_csv(edges_output_path)\n",
    "edges_df"
   ]
  },
  {
   "cell_type": "markdown",
   "metadata": {},
   "source": [
    "###  Vertices Feature Extraction\n",
    "In the vertices example we are demonstrate the use of features_generator instead of extract_features_to_file which returns a generator."
   ]
  },
  {
   "cell_type": "code",
   "execution_count": null,
   "metadata": {},
   "outputs": [],
   "source": [
    "from anomalous_vertices_detection.configs.predefined_features_sets import fast_vertex_features\n",
    "fast_vertex_features"
   ]
  },
  {
   "cell_type": "code",
   "execution_count": null,
   "metadata": {},
   "outputs": [],
   "source": [
    "vertices_fetures = list(features.features_generator(fast_vertex_features[my_graph.is_directed], my_graph.vertices[:1000]))"
   ]
  },
  {
   "cell_type": "code",
   "execution_count": null,
   "metadata": {},
   "outputs": [],
   "source": [
    "vertices_df = pd.DataFrame(vertices_fetures)\n",
    "vertices_df"
   ]
  }
 ],
 "metadata": {
  "kernelspec": {
   "display_name": "Python 2",
   "language": "python",
   "name": "python2"
  },
  "language_info": {
   "codemirror_mode": {
    "name": "ipython",
    "version": 2
   },
   "file_extension": ".py",
   "mimetype": "text/x-python",
   "name": "python",
   "nbconvert_exporter": "python",
   "pygments_lexer": "ipython2",
   "version": "2.7.13"
  },
  "varInspector": {
   "cols": {
    "lenName": 16,
    "lenType": 16,
    "lenVar": 40
   },
   "kernels_config": {
    "python": {
     "delete_cmd_postfix": "",
     "delete_cmd_prefix": "del ",
     "library": "var_list.py",
     "varRefreshCmd": "print(var_dic_list())"
    },
    "r": {
     "delete_cmd_postfix": ") ",
     "delete_cmd_prefix": "rm(",
     "library": "var_list.r",
     "varRefreshCmd": "cat(var_dic_list()) "
    }
   },
   "types_to_exclude": [
    "module",
    "function",
    "builtin_function_or_method",
    "instance",
    "_Feature"
   ],
   "window_display": false
  }
 },
 "nbformat": 4,
 "nbformat_minor": 2
}
