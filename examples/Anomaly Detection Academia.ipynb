{
 "cells": [
  {
   "cell_type": "markdown",
   "metadata": {},
   "source": [
    "# Anomalus Vertices Detection in Academia.edu Graph\n",
    "In this notebook I am going to demonstrate how I use the method described in https://arxiv.org/abs/1610.07525 to detect anomlies in Academia.edu social network.\n",
    "Since we don't have a ground truth labels we are going to use the academia.edu dataset with simulated anomalus vertices.\n",
    "\n",
    "To install the package please read the [installation instructions](https://github.com/Kagandi/anomalous-vertices-detection)."
   ]
  },
  {
   "cell_type": "code",
   "execution_count": 1,
   "metadata": {},
   "outputs": [],
   "source": [
    "from anomalous_vertices_detection.graph_learning_controller import GraphLearningController\n",
    "from anomalous_vertices_detection.learners.sklearner import SkLearner\n",
    "from anomalous_vertices_detection.learners.gllearner import GlLearner\n",
    "from anomalous_vertices_detection.datasets.academia import load_data\n",
    "import os"
   ]
  },
  {
   "cell_type": "markdown",
   "metadata": {},
   "source": [
    "Besides the basic installation of the package with networkx as its graph analysis package, it is also possible to install and use iGraph."
   ]
  },
  {
   "cell_type": "markdown",
   "metadata": {},
   "source": [
    "First we will define what are considered as positive and negative labels"
   ]
  },
  {
   "cell_type": "code",
   "execution_count": 2,
   "metadata": {},
   "outputs": [],
   "source": [
    "labels = {\"neg\": \"Real\", \"pos\": \"Fake\"}"
   ]
  },
  {
   "cell_type": "markdown",
   "metadata": {},
   "source": [
    "Next we will load the graph of academia.edu.\n",
    "load_data will return a graph object(academia_graph) and a config object(academia_config).\n",
    "Since the acedemia.edu dataset doesn't has real world labels load_data will simulate 10% fake vertices. "
   ]
  },
  {
   "cell_type": "code",
   "execution_count": 3,
   "metadata": {
    "scrolled": true
   },
   "outputs": [
    {
     "name": "stdout",
     "output_type": "stream",
     "text": [
      "Loading graph...\n",
      "Data loaded.\n",
      "101\n"
     ]
    }
   ],
   "source": [
    "academia_graph, academia_config = load_data(labels_map=labels, simulate_fake_vertices=False, limit=100)\n",
    "print(len(academia_graph.vertices))"
   ]
  },
  {
   "cell_type": "markdown",
   "metadata": {},
   "source": [
    "We are going to configure a learning controller that will use Scikit as its ml package. (It is also possible to use Turi)."
   ]
  },
  {
   "cell_type": "code",
   "execution_count": 4,
   "metadata": {},
   "outputs": [
    {
     "data": {
      "text/plain": [
       "101"
      ]
     },
     "execution_count": 4,
     "metadata": {},
     "output_type": "execute_result"
    }
   ],
   "source": [
    "len(academia_graph.vertices)"
   ]
  },
  {
   "cell_type": "code",
   "execution_count": 5,
   "metadata": {},
   "outputs": [],
   "source": [
    "glc = GraphLearningController(GlLearner(labels=labels), academia_config)"
   ]
  },
  {
   "cell_type": "markdown",
   "metadata": {},
   "source": [
    "The result will be written in result_path"
   ]
  },
  {
   "cell_type": "code",
   "execution_count": 6,
   "metadata": {},
   "outputs": [],
   "source": [
    "output_folder = \"../output/\"\n",
    "result_path = os.path.join(output_folder, academia_config.name + \"_res.csv\")"
   ]
  },
  {
   "cell_type": "markdown",
   "metadata": {},
   "source": [
    "Some of the extracted feature can be useful for understanding the result, but they must not be used in the ml process"
   ]
  },
  {
   "cell_type": "code",
   "execution_count": 7,
   "metadata": {},
   "outputs": [],
   "source": [
    "if academia_graph.is_directed:\n",
    "    meta_data_cols = [\"dst\", \"src\", \"out_degree_v\", \"in_degree_v\", \"out_degree_u\", \"in_degree_u\"]\n",
    "else:\n",
    "    meta_data_cols = [\"dst\", \"src\", \"number_of_friends_u\", \"number_of_friends_v\"]"
   ]
  },
  {
   "cell_type": "markdown",
   "metadata": {},
   "source": [
    "Finally we are going to execute the classification algorithm."
   ]
  },
  {
   "cell_type": "code",
   "execution_count": 8,
   "metadata": {
    "scrolled": false
   },
   "outputs": [
    {
     "name": "stdout",
     "output_type": "stream",
     "text": [
      "Setting training and test sets\n",
      "Existing files were loaded.\n"
     ]
    },
    {
     "data": {
      "text/html": [
       "<pre>Finished parsing file /home/kagandi/.avd/temp/academia_config_train.csv</pre>"
      ],
      "text/plain": [
       "Finished parsing file /home/kagandi/.avd/temp/academia_config_train.csv"
      ]
     },
     "metadata": {},
     "output_type": "display_data"
    },
    {
     "data": {
      "text/html": [
       "<pre>Parsing completed. Parsed 100 lines in 0.181308 secs.</pre>"
      ],
      "text/plain": [
       "Parsing completed. Parsed 100 lines in 0.181308 secs."
      ]
     },
     "metadata": {},
     "output_type": "display_data"
    },
    {
     "data": {
      "text/html": [
       "<pre>Finished parsing file /home/kagandi/.avd/temp/academia_config_train.csv</pre>"
      ],
      "text/plain": [
       "Finished parsing file /home/kagandi/.avd/temp/academia_config_train.csv"
      ]
     },
     "metadata": {},
     "output_type": "display_data"
    },
    {
     "data": {
      "text/html": [
       "<pre>Parsing completed. Parsed 40000 lines in 0.174193 secs.</pre>"
      ],
      "text/plain": [
       "Parsing completed. Parsed 40000 lines in 0.174193 secs."
      ]
     },
     "metadata": {},
     "output_type": "display_data"
    },
    {
     "name": "stdout",
     "output_type": "stream",
     "text": [
      "+--------------------+-------------------+-------------------------------+-------------------------------+\n",
      "| out_common_friends | bi_common_friends | preferential_attachment_score | is_opposite_direction_friends |\n",
      "+--------------------+-------------------+-------------------------------+-------------------------------+\n",
      "|         7          |         5         |             672.0             |             False             |\n",
      "|         0          |         0         |             833.0             |             False             |\n",
      "|         1          |         0         |             154.0             |             False             |\n",
      "|         1          |         0         |             966.0             |             False             |\n",
      "|         2          |         1         |             833.0             |             False             |\n",
      "|        207         |         13        |           4870295.0           |             False             |\n",
      "|         0          |         0         |             2086.0            |             False             |\n",
      "|         5          |         0         |            16376.0            |             False             |\n",
      "|         0          |         0         |             180.0             |             False             |\n",
      "|         0          |         0         |             1054.0            |             False             |\n",
      "+--------------------+-------------------+-------------------------------+-------------------------------+\n",
      "+----------------------+---------------+------------------------------+-------+\n",
      "| jaccards_coefficient | total_friends | number_of_transitive_friends | label |\n",
      "+----------------------+---------------+------------------------------+-------+\n",
      "|    0.114754098361    |      61.0     |              5               |  Real |\n",
      "|         0.0          |      66.0     |              0               |  Real |\n",
      "|   0.0416666666667    |      24.0     |              0               |  Real |\n",
      "|   0.0151515151515    |      66.0     |              0               |  Real |\n",
      "|       0.03125        |      64.0     |              2               |  Real |\n",
      "|   0.0146839753139    |    14097.0    |              13              |  Real |\n",
      "|         0.0          |     163.0     |              0               |  Real |\n",
      "|   0.0188679245283    |     265.0     |              0               |  Real |\n",
      "|         0.0          |      27.0     |              0               |  Real |\n",
      "|         0.0          |      65.0     |              0               |  Real |\n",
      "+----------------------+---------------+------------------------------+-------+\n",
      "+-------------------+-----------------+-----------------+-----------------+\n",
      "| in_common_friends |   knn_weight1   |   knn_weight3   |   knn_weight2   |\n",
      "+-------------------+-----------------+-----------------+-----------------+\n",
      "|         7         |  0.431660229218 |  0.399714477619 |  0.441749085418 |\n",
      "|         0         |  1.22941573387  |  0.370837090108 |   1.2357022604  |\n",
      "|         1         |  0.655064735171 |  0.559710234325 |  0.642228525188 |\n",
      "|         1         |  0.435702260396 |  0.413200716356 |  0.381567251893 |\n",
      "|         2         |  0.430096490832 |  0.430096490832 |  0.377123616633 |\n",
      "|        207        | 0.0958967106258 | 0.0717104081335 | 0.0861034058049 |\n",
      "|         0         |  0.310526444436 |  0.311065391963 |  0.339309600313 |\n",
      "|         5         |  0.302643435456 |  0.193137888573 |  0.287944225631 |\n",
      "|         0         |  0.636195832005 |  0.466332334617 |   0.6972135955  |\n",
      "|         0         |   1.1889822365  |  0.365758931801 |  1.16903085095  |\n",
      "+-------------------+-----------------+-----------------+-----------------+\n",
      "+------------------+-----------------+-------------------+------------------+\n",
      "|   knn_weight5    |   knn_weight4   |    knn_weight7    |   knn_weight6    |\n",
      "+------------------+-----------------+-------------------+------------------+\n",
      "| 0.0439374775164  |  0.409803333819 |  0.0353996162702  | 0.0455960752588  |\n",
      "|  0.229415733871  |  0.377123616633 |  0.0324442842262  |  0.235702260396  |\n",
      "|  0.106600358178  |  0.546874024342 |  0.0778498944162  |  0.102062072616  |\n",
      "| 0.0471404520791  |  0.359065707854 |  0.0426401432711  | 0.0343807082086  |\n",
      "| 0.0408248290464  |  0.377123616633 |  0.0408248290464  | 0.0333333333333  |\n",
      "| 0.00206504051391 | 0.0619171033126 | 0.000535364432843 | 0.00174527777652 |\n",
      "| 0.0186080731891  |  0.33984854784  |  0.0187317162316  | 0.0209426954146  |\n",
      "| 0.0190692517849  |  0.178438678748 |  0.0092747779152  | 0.0159353697204  |\n",
      "| 0.0845154254729  |  0.527350098113 |  0.0524142418361  |  0.111803398875  |\n",
      "|  0.188982236505  |  0.345807546242 |  0.0334076552391  |  0.169030850946  |\n",
      "+------------------+-----------------+-------------------+------------------+\n",
      "+-------------------+\n",
      "|    knn_weight8    |\n",
      "+-------------------+\n",
      "|  0.0367359179185  |\n",
      "|  0.0333333333333  |\n",
      "|   0.07453559925   |\n",
      "|  0.0310985206786  |\n",
      "|  0.0333333333333  |\n",
      "| 0.000452465528247 |\n",
      "|  0.0210818510678  |\n",
      "|  0.0077505408613  |\n",
      "|  0.0693375245282  |\n",
      "|  0.0298807152334  |\n",
      "+-------------------+\n",
      "[40000 rows x 17 columns]\n",
      "Note: Only the head of the SFrame is printed.\n",
      "You can use print_rows(num_rows=m, num_columns=n) to print more rows and columns.\n",
      "PROGRESS: Creating a validation set from 5 percent of training data. This may take a while.\n",
      "          You can set ``validation_set=None`` to disable validation tracking.\n",
      "\n"
     ]
    },
    {
     "data": {
      "text/html": [
       "<pre>WARNING: Detected extremely low variance for feature(s) 'is_opposite_direction_friends' because all entries are nearly the same.\n",
       "Proceeding with model training using all features. If the model does not provide results of adequate quality, exclude the above mentioned feature(s) from the input dataset.</pre>"
      ],
      "text/plain": [
       "WARNING: Detected extremely low variance for feature(s) 'is_opposite_direction_friends' because all entries are nearly the same.\n",
       "Proceeding with model training using all features. If the model does not provide results of adequate quality, exclude the above mentioned feature(s) from the input dataset."
      ]
     },
     "metadata": {},
     "output_type": "display_data"
    },
    {
     "data": {
      "text/html": [
       "<pre>Random forest classifier:</pre>"
      ],
      "text/plain": [
       "Random forest classifier:"
      ]
     },
     "metadata": {},
     "output_type": "display_data"
    },
    {
     "data": {
      "text/html": [
       "<pre>--------------------------------------------------------</pre>"
      ],
      "text/plain": [
       "--------------------------------------------------------"
      ]
     },
     "metadata": {},
     "output_type": "display_data"
    },
    {
     "data": {
      "text/html": [
       "<pre>Number of examples          : 38004</pre>"
      ],
      "text/plain": [
       "Number of examples          : 38004"
      ]
     },
     "metadata": {},
     "output_type": "display_data"
    },
    {
     "data": {
      "text/html": [
       "<pre>Number of classes           : 2</pre>"
      ],
      "text/plain": [
       "Number of classes           : 2"
      ]
     },
     "metadata": {},
     "output_type": "display_data"
    },
    {
     "data": {
      "text/html": [
       "<pre>Number of feature columns   : 16</pre>"
      ],
      "text/plain": [
       "Number of feature columns   : 16"
      ]
     },
     "metadata": {},
     "output_type": "display_data"
    },
    {
     "data": {
      "text/html": [
       "<pre>Number of unpacked features : 16</pre>"
      ],
      "text/plain": [
       "Number of unpacked features : 16"
      ]
     },
     "metadata": {},
     "output_type": "display_data"
    },
    {
     "data": {
      "text/html": [
       "<pre>+-----------+--------------+-------------------+---------------------+-------------------+---------------------+</pre>"
      ],
      "text/plain": [
       "+-----------+--------------+-------------------+---------------------+-------------------+---------------------+"
      ]
     },
     "metadata": {},
     "output_type": "display_data"
    },
    {
     "data": {
      "text/html": [
       "<pre>| Iteration | Elapsed Time | Training-accuracy | Validation-accuracy | Training-log_loss | Validation-log_loss |</pre>"
      ],
      "text/plain": [
       "| Iteration | Elapsed Time | Training-accuracy | Validation-accuracy | Training-log_loss | Validation-log_loss |"
      ]
     },
     "metadata": {},
     "output_type": "display_data"
    },
    {
     "data": {
      "text/html": [
       "<pre>+-----------+--------------+-------------------+---------------------+-------------------+---------------------+</pre>"
      ],
      "text/plain": [
       "+-----------+--------------+-------------------+---------------------+-------------------+---------------------+"
      ]
     },
     "metadata": {},
     "output_type": "display_data"
    },
    {
     "data": {
      "text/html": [
       "<pre>| 1         | 0.048578     | 0.877644          | 0.876253            | 0.323904          | 0.331152            |</pre>"
      ],
      "text/plain": [
       "| 1         | 0.048578     | 0.877644          | 0.876253            | 0.323904          | 0.331152            |"
      ]
     },
     "metadata": {},
     "output_type": "display_data"
    },
    {
     "data": {
      "text/html": [
       "<pre>| 2         | 0.084791     | 0.878829          | 0.874749            | 0.323208          | 0.332360            |</pre>"
      ],
      "text/plain": [
       "| 2         | 0.084791     | 0.878829          | 0.874749            | 0.323208          | 0.332360            |"
      ]
     },
     "metadata": {},
     "output_type": "display_data"
    },
    {
     "data": {
      "text/html": [
       "<pre>| 3         | 0.122334     | 0.880592          | 0.874749            | 0.322485          | 0.331441            |</pre>"
      ],
      "text/plain": [
       "| 3         | 0.122334     | 0.880592          | 0.874749            | 0.322485          | 0.331441            |"
      ]
     },
     "metadata": {},
     "output_type": "display_data"
    },
    {
     "data": {
      "text/html": [
       "<pre>| 4         | 0.158326     | 0.880565          | 0.874249            | 0.322359          | 0.330359            |</pre>"
      ],
      "text/plain": [
       "| 4         | 0.158326     | 0.880565          | 0.874249            | 0.322359          | 0.330359            |"
      ]
     },
     "metadata": {},
     "output_type": "display_data"
    },
    {
     "data": {
      "text/html": [
       "<pre>| 5         | 0.194440     | 0.879328          | 0.872244            | 0.322491          | 0.329870            |</pre>"
      ],
      "text/plain": [
       "| 5         | 0.194440     | 0.879328          | 0.872244            | 0.322491          | 0.329870            |"
      ]
     },
     "metadata": {},
     "output_type": "display_data"
    },
    {
     "data": {
      "text/html": [
       "<pre>| 6         | 0.231116     | 0.879039          | 0.878758            | 0.322597          | 0.329540            |</pre>"
      ],
      "text/plain": [
       "| 6         | 0.231116     | 0.879039          | 0.878758            | 0.322597          | 0.329540            |"
      ]
     },
     "metadata": {},
     "output_type": "display_data"
    },
    {
     "data": {
      "text/html": [
       "<pre>+-----------+--------------+-------------------+---------------------+-------------------+---------------------+</pre>"
      ],
      "text/plain": [
       "+-----------+--------------+-------------------+---------------------+-------------------+---------------------+"
      ]
     },
     "metadata": {},
     "output_type": "display_data"
    },
    {
     "name": "stdout",
     "output_type": "stream",
     "text": [
      "{'f1_score': 0.8874560648029609, 'auc': 0.9503357650000008, 'recall': 0.95315, 'precision': 0.8302338748312356, 'log_loss': 0.32273291339669813, 'roc_curve': Columns:\n",
      "\tthreshold\tfloat\n",
      "\tfpr\tfloat\n",
      "\ttpr\tfloat\n",
      "\tp\tint\n",
      "\tn\tint\n",
      "\n",
      "Rows: 100001\n",
      "\n",
      "Data:\n",
      "+-----------+-----+-----+-------+-------+\n",
      "| threshold | fpr | tpr |   p   |   n   |\n",
      "+-----------+-----+-----+-------+-------+\n",
      "|    0.0    | 1.0 | 1.0 | 20000 | 20000 |\n",
      "|   1e-05   | 1.0 | 1.0 | 20000 | 20000 |\n",
      "|   2e-05   | 1.0 | 1.0 | 20000 | 20000 |\n",
      "|   3e-05   | 1.0 | 1.0 | 20000 | 20000 |\n",
      "|   4e-05   | 1.0 | 1.0 | 20000 | 20000 |\n",
      "|   5e-05   | 1.0 | 1.0 | 20000 | 20000 |\n",
      "|   6e-05   | 1.0 | 1.0 | 20000 | 20000 |\n",
      "|   7e-05   | 1.0 | 1.0 | 20000 | 20000 |\n",
      "|   8e-05   | 1.0 | 1.0 | 20000 | 20000 |\n",
      "|   9e-05   | 1.0 | 1.0 | 20000 | 20000 |\n",
      "+-----------+-----+-----+-------+-------+\n",
      "[100001 rows x 5 columns]\n",
      "Note: Only the head of the SFrame is printed.\n",
      "You can use print_rows(num_rows=m, num_columns=n) to print more rows and columns., 'confusion_matrix': Columns:\n",
      "\ttarget_label\tint\n",
      "\tpredicted_label\tint\n",
      "\tcount\tint\n",
      "\n",
      "Rows: 4\n",
      "\n",
      "Data:\n",
      "+--------------+-----------------+-------+\n",
      "| target_label | predicted_label | count |\n",
      "+--------------+-----------------+-------+\n",
      "|      0       |        0        | 16102 |\n",
      "|      0       |        1        |  3898 |\n",
      "|      1       |        1        | 19063 |\n",
      "|      1       |        0        |  937  |\n",
      "+--------------+-----------------+-------+\n",
      "[4 rows x 3 columns]\n",
      ", 'accuracy': 0.879125}\n",
      "[17132  4885 38435 ..., 38985 38299 30259]\n",
      "PROGRESS: Creating a validation set from 5 percent of training data. This may take a while.\n",
      "          You can set ``validation_set=None`` to disable validation tracking.\n",
      "\n"
     ]
    },
    {
     "data": {
      "text/html": [
       "<pre>WARNING: Detected extremely low variance for feature(s) 'is_opposite_direction_friends' because all entries are nearly the same.\n",
       "Proceeding with model training using all features. If the model does not provide results of adequate quality, exclude the above mentioned feature(s) from the input dataset.</pre>"
      ],
      "text/plain": [
       "WARNING: Detected extremely low variance for feature(s) 'is_opposite_direction_friends' because all entries are nearly the same.\n",
       "Proceeding with model training using all features. If the model does not provide results of adequate quality, exclude the above mentioned feature(s) from the input dataset."
      ]
     },
     "metadata": {},
     "output_type": "display_data"
    },
    {
     "data": {
      "text/html": [
       "<pre>Random forest classifier:</pre>"
      ],
      "text/plain": [
       "Random forest classifier:"
      ]
     },
     "metadata": {},
     "output_type": "display_data"
    },
    {
     "data": {
      "text/html": [
       "<pre>--------------------------------------------------------</pre>"
      ],
      "text/plain": [
       "--------------------------------------------------------"
      ]
     },
     "metadata": {},
     "output_type": "display_data"
    },
    {
     "data": {
      "text/html": [
       "<pre>Number of examples          : 34280</pre>"
      ],
      "text/plain": [
       "Number of examples          : 34280"
      ]
     },
     "metadata": {},
     "output_type": "display_data"
    },
    {
     "data": {
      "text/html": [
       "<pre>Number of classes           : 2</pre>"
      ],
      "text/plain": [
       "Number of classes           : 2"
      ]
     },
     "metadata": {},
     "output_type": "display_data"
    },
    {
     "data": {
      "text/html": [
       "<pre>Number of feature columns   : 17</pre>"
      ],
      "text/plain": [
       "Number of feature columns   : 17"
      ]
     },
     "metadata": {},
     "output_type": "display_data"
    },
    {
     "data": {
      "text/html": [
       "<pre>Number of unpacked features : 17</pre>"
      ],
      "text/plain": [
       "Number of unpacked features : 17"
      ]
     },
     "metadata": {},
     "output_type": "display_data"
    },
    {
     "data": {
      "text/html": [
       "<pre>+-----------+--------------+-------------------+---------------------+-------------------+---------------------+</pre>"
      ],
      "text/plain": [
       "+-----------+--------------+-------------------+---------------------+-------------------+---------------------+"
      ]
     },
     "metadata": {},
     "output_type": "display_data"
    },
    {
     "data": {
      "text/html": [
       "<pre>| Iteration | Elapsed Time | Training-accuracy | Validation-accuracy | Training-log_loss | Validation-log_loss |</pre>"
      ],
      "text/plain": [
       "| Iteration | Elapsed Time | Training-accuracy | Validation-accuracy | Training-log_loss | Validation-log_loss |"
      ]
     },
     "metadata": {},
     "output_type": "display_data"
    },
    {
     "data": {
      "text/html": [
       "<pre>+-----------+--------------+-------------------+---------------------+-------------------+---------------------+</pre>"
      ],
      "text/plain": [
       "+-----------+--------------+-------------------+---------------------+-------------------+---------------------+"
      ]
     },
     "metadata": {},
     "output_type": "display_data"
    },
    {
     "data": {
      "text/html": [
       "<pre>| 1         | 0.029132     | 1.000000          | 1.000000            | 0.126998          | 0.126998            |</pre>"
      ],
      "text/plain": [
       "| 1         | 0.029132     | 1.000000          | 1.000000            | 0.126998          | 0.126998            |"
      ]
     },
     "metadata": {},
     "output_type": "display_data"
    },
    {
     "data": {
      "text/html": [
       "<pre>| 2         | 0.080187     | 1.000000          | 1.000000            | 0.191614          | 0.193948            |</pre>"
      ],
      "text/plain": [
       "| 2         | 0.080187     | 1.000000          | 1.000000            | 0.191614          | 0.193948            |"
      ]
     },
     "metadata": {},
     "output_type": "display_data"
    },
    {
     "data": {
      "text/html": [
       "<pre>| 3         | 0.098018     | 1.000000          | 1.000000            | 0.163743          | 0.164929            |</pre>"
      ],
      "text/plain": [
       "| 3         | 0.098018     | 1.000000          | 1.000000            | 0.163743          | 0.164929            |"
      ]
     },
     "metadata": {},
     "output_type": "display_data"
    },
    {
     "data": {
      "text/html": [
       "<pre>| 4         | 0.118800     | 1.000000          | 1.000000            | 0.152454          | 0.153222            |</pre>"
      ],
      "text/plain": [
       "| 4         | 0.118800     | 1.000000          | 1.000000            | 0.152454          | 0.153222            |"
      ]
     },
     "metadata": {},
     "output_type": "display_data"
    },
    {
     "data": {
      "text/html": [
       "<pre>| 5         | 0.164210     | 1.000000          | 1.000000            | 0.174624          | 0.176426            |</pre>"
      ],
      "text/plain": [
       "| 5         | 0.164210     | 1.000000          | 1.000000            | 0.174624          | 0.176426            |"
      ]
     },
     "metadata": {},
     "output_type": "display_data"
    },
    {
     "data": {
      "text/html": [
       "<pre>| 6         | 0.180472     | 1.000000          | 1.000000            | 0.164281          | 0.165631            |</pre>"
      ],
      "text/plain": [
       "| 6         | 0.180472     | 1.000000          | 1.000000            | 0.164281          | 0.165631            |"
      ]
     },
     "metadata": {},
     "output_type": "display_data"
    },
    {
     "data": {
      "text/html": [
       "<pre>+-----------+--------------+-------------------+---------------------+-------------------+---------------------+</pre>"
      ],
      "text/plain": [
       "+-----------+--------------+-------------------+---------------------+-------------------+---------------------+"
      ]
     },
     "metadata": {},
     "output_type": "display_data"
    },
    {
     "name": "stdout",
     "output_type": "stream",
     "text": [
      "{'f1_score': 1.0, 'auc': 1.0000000000000033, 'recall': 1.0, 'precision': 1.0, 'log_loss': 0.19181401175792054, 'roc_curve': Columns:\n",
      "\tthreshold\tfloat\n",
      "\tfpr\tfloat\n",
      "\ttpr\tfloat\n",
      "\tp\tint\n",
      "\tn\tint\n",
      "\n",
      "Rows: 100001\n",
      "\n",
      "Data:\n",
      "+-----------+-----+-----+-------+-------+\n",
      "| threshold | fpr | tpr |   p   |   n   |\n",
      "+-----------+-----+-----+-------+-------+\n",
      "|    0.0    | 1.0 | 1.0 | 17970 | 18030 |\n",
      "|   1e-05   | 1.0 | 1.0 | 17970 | 18030 |\n",
      "|   2e-05   | 1.0 | 1.0 | 17970 | 18030 |\n",
      "|   3e-05   | 1.0 | 1.0 | 17970 | 18030 |\n",
      "|   4e-05   | 1.0 | 1.0 | 17970 | 18030 |\n",
      "|   5e-05   | 1.0 | 1.0 | 17970 | 18030 |\n",
      "|   6e-05   | 1.0 | 1.0 | 17970 | 18030 |\n",
      "|   7e-05   | 1.0 | 1.0 | 17970 | 18030 |\n",
      "|   8e-05   | 1.0 | 1.0 | 17970 | 18030 |\n",
      "|   9e-05   | 1.0 | 1.0 | 17970 | 18030 |\n",
      "+-----------+-----+-----+-------+-------+\n",
      "[100001 rows x 5 columns]\n",
      "Note: Only the head of the SFrame is printed.\n",
      "You can use print_rows(num_rows=m, num_columns=n) to print more rows and columns., 'confusion_matrix': Columns:\n",
      "\ttarget_label\tint\n",
      "\tpredicted_label\tint\n",
      "\tcount\tint\n",
      "\n",
      "Rows: 2\n",
      "\n",
      "Data:\n",
      "+--------------+-----------------+-------+\n",
      "| target_label | predicted_label | count |\n",
      "+--------------+-----------------+-------+\n",
      "|      0       |        0        | 18030 |\n",
      "|      1       |        1        | 17970 |\n",
      "+--------------+-----------------+-------+\n",
      "[2 rows x 3 columns]\n",
      ", 'accuracy': 1.0}\n"
     ]
    },
    {
     "ename": "TypeError",
     "evalue": "'RandomForestClassifier' object is not callable",
     "output_type": "error",
     "traceback": [
      "\u001b[0;31m-\u001b[0m",
      "\u001b[0;31mTypeError\u001b[0mTraceback (most recent call last)",
      "\u001b[0;32m<ipython-input-8-ff4f38e736d5>\u001b[0m in \u001b[0;36m<module>\u001b[0;34m()\u001b[0m\n\u001b[1;32m      1\u001b[0m glc.classify_by_links(academia_graph, result_path, test_size={\"neg\": 1000, \"pos\": 100},\n\u001b[0;32m----> 2\u001b[0;31m                       train_size={\"neg\": 20000, \"pos\": 20000}, meta_data_cols=meta_data_cols)\n\u001b[0m",
      "\u001b[0;32m/mnt/c/Users/dimak/Git-Projects/anomalous-vertices-detection-master/anomalous_vertices_detection/graph_learning_controller.pyc\u001b[0m in \u001b[0;36mclassify_by_links\u001b[0;34m(self, my_graph, results_output_path, test_size, train_size, meta_data_cols, id_col_name)\u001b[0m\n\u001b[1;32m    141\u001b[0m \u001b[0;34m\u001b[0m\u001b[0m\n\u001b[1;32m    142\u001b[0m         self.evaluate_classifier(\n\u001b[0;32m--> 143\u001b[0;31m             my_graph, test_size, train_size, meta_data_cols=meta_data_cols)\n\u001b[0m\u001b[1;32m    144\u001b[0m         classified = self._ml.classify_by_links_probability(\n\u001b[1;32m    145\u001b[0m             self._test_path, \"edge_label\", id_col_name, meta_data_cols)\n",
      "\u001b[0;32m/mnt/c/Users/dimak/Git-Projects/anomalous-vertices-detection-master/anomalous_vertices_detection/graph_learning_controller.pyc\u001b[0m in \u001b[0;36mevaluate_classifier\u001b[0;34m(self, my_graph, test_size, training_size, id_col_name, feature_dict, meta_data_cols)\u001b[0m\n\u001b[1;32m    115\u001b[0m         \u001b[0;31m# self._ml.load_test_set(test_path, \"edge_label\", id_col_name, meta_data_cols)\u001b[0m\u001b[0;34m\u001b[0m\u001b[0;34m\u001b[0m\u001b[0m\n\u001b[1;32m    116\u001b[0m         \u001b[0mself\u001b[0m\u001b[0;34m.\u001b[0m\u001b[0m_ml\u001b[0m \u001b[0;34m=\u001b[0m \u001b[0mself\u001b[0m\u001b[0;34m.\u001b[0m\u001b[0m_ml\u001b[0m\u001b[0;34m.\u001b[0m\u001b[0mtrain_classifier\u001b[0m\u001b[0;34m(\u001b[0m\u001b[0;34m)\u001b[0m\u001b[0;34m\u001b[0m\u001b[0m\n\u001b[0;32m--> 117\u001b[0;31m         \u001b[0;32mprint\u001b[0m\u001b[0;34m(\u001b[0m\u001b[0;34m\"Training 10-fold validation: {}\"\u001b[0m\u001b[0;34m.\u001b[0m\u001b[0mformat\u001b[0m\u001b[0;34m(\u001b[0m\u001b[0mself\u001b[0m\u001b[0;34m.\u001b[0m\u001b[0m_ml\u001b[0m\u001b[0;34m.\u001b[0m\u001b[0mk_fold_validation\u001b[0m\u001b[0;34m(\u001b[0m\u001b[0;34m)\u001b[0m\u001b[0;34m)\u001b[0m\u001b[0;34m)\u001b[0m\u001b[0;34m\u001b[0m\u001b[0m\n\u001b[0m\u001b[1;32m    118\u001b[0m         \u001b[0;31m# Testing the classifier\u001b[0m\u001b[0;34m\u001b[0m\u001b[0;34m\u001b[0m\u001b[0m\n\u001b[1;32m    119\u001b[0m         \u001b[0;32mtry\u001b[0m\u001b[0;34m:\u001b[0m\u001b[0;34m\u001b[0m\u001b[0m\n",
      "\u001b[0;32m/mnt/c/Users/dimak/Git-Projects/anomalous-vertices-detection-master/anomalous_vertices_detection/ml_controller.pyc\u001b[0m in \u001b[0;36mk_fold_validation\u001b[0;34m(self, k)\u001b[0m\n\u001b[1;32m    114\u001b[0m             \u001b[0mDict\u001b[0m \u001b[0mcontains\u001b[0m \u001b[0mthe\u001b[0m \u001b[0mAUC\u001b[0m\u001b[0;34m\u001b[0m\u001b[0m\n\u001b[1;32m    115\u001b[0m         \"\"\"\n\u001b[0;32m--> 116\u001b[0;31m         \u001b[0;32mreturn\u001b[0m \u001b[0mself\u001b[0m\u001b[0;34m.\u001b[0m\u001b[0m_learner\u001b[0m\u001b[0;34m.\u001b[0m\u001b[0mcross_validate\u001b[0m\u001b[0;34m(\u001b[0m\u001b[0mself\u001b[0m\u001b[0;34m.\u001b[0m\u001b[0m_training\u001b[0m\u001b[0;34m,\u001b[0m \u001b[0mk\u001b[0m\u001b[0;34m)\u001b[0m\u001b[0;34m\u001b[0m\u001b[0m\n\u001b[0m\u001b[1;32m    117\u001b[0m \u001b[0;34m\u001b[0m\u001b[0m\n\u001b[1;32m    118\u001b[0m     \u001b[0;32mdef\u001b[0m \u001b[0mvalidate_prediction_by_links\u001b[0m\u001b[0;34m(\u001b[0m\u001b[0mself\u001b[0m\u001b[0;34m,\u001b[0m \u001b[0mresult\u001b[0m\u001b[0;34m)\u001b[0m\u001b[0;34m:\u001b[0m\u001b[0;34m\u001b[0m\u001b[0m\n",
      "\u001b[0;32m/mnt/c/Users/dimak/Git-Projects/anomalous-vertices-detection-master/anomalous_vertices_detection/learners/gllearner.py\u001b[0m in \u001b[0;36mcross_validate\u001b[0;34m(self, dataset, n_folds)\u001b[0m\n\u001b[1;32m    146\u001b[0m             \u001b[0mcross_val\u001b[0m \u001b[0;34m=\u001b[0m \u001b[0mself\u001b[0m\u001b[0;34m.\u001b[0m\u001b[0mset_randomforest_classifier\u001b[0m\u001b[0;34m(\u001b[0m\u001b[0;34m)\u001b[0m\u001b[0;34m\u001b[0m\u001b[0m\n\u001b[1;32m    147\u001b[0m             \u001b[0mprediction\u001b[0m \u001b[0;34m=\u001b[0m \u001b[0mcross_val\u001b[0m\u001b[0;34m.\u001b[0m\u001b[0mtrain_classifier\u001b[0m\u001b[0;34m(\u001b[0m\u001b[0mf_train\u001b[0m\u001b[0;34m)\u001b[0m\u001b[0;34m.\u001b[0m\u001b[0mget_prediction\u001b[0m\u001b[0;34m(\u001b[0m\u001b[0mf_test\u001b[0m\u001b[0;34m)\u001b[0m\u001b[0;34m\u001b[0m\u001b[0m\n\u001b[0;32m--> 148\u001b[0;31m             \u001b[0mprobas\u001b[0m \u001b[0;34m=\u001b[0m \u001b[0mcross_val\u001b[0m\u001b[0;34m.\u001b[0m\u001b[0mtrain_classifier\u001b[0m\u001b[0;34m(\u001b[0m\u001b[0mf_train\u001b[0m\u001b[0;34m)\u001b[0m\u001b[0;34m.\u001b[0m\u001b[0mget_prediction_probabilities\u001b[0m\u001b[0;34m(\u001b[0m\u001b[0mf_test\u001b[0m\u001b[0;34m)\u001b[0m\u001b[0;34m[\u001b[0m\u001b[0;34m:\u001b[0m\u001b[0;34m,\u001b[0m \u001b[0;36m1\u001b[0m\u001b[0;34m]\u001b[0m\u001b[0;34m\u001b[0m\u001b[0m\n\u001b[0m\u001b[1;32m    149\u001b[0m             \u001b[0mmetrics\u001b[0m \u001b[0;34m=\u001b[0m \u001b[0mcross_val\u001b[0m\u001b[0;34m.\u001b[0m\u001b[0mget_classification_metrics\u001b[0m\u001b[0;34m(\u001b[0m\u001b[0mf_test\u001b[0m\u001b[0;34m.\u001b[0m\u001b[0mfeatures\u001b[0m\u001b[0;34m[\u001b[0m\u001b[0;34m'label'\u001b[0m\u001b[0;34m]\u001b[0m\u001b[0;34m,\u001b[0m \u001b[0mprediction\u001b[0m\u001b[0;34m,\u001b[0m \u001b[0mprobas\u001b[0m\u001b[0;34m)\u001b[0m\u001b[0;34m\u001b[0m\u001b[0m\n\u001b[1;32m    150\u001b[0m             \u001b[0mfpr\u001b[0m\u001b[0;34m.\u001b[0m\u001b[0mappend\u001b[0m\u001b[0;34m(\u001b[0m\u001b[0mmetrics\u001b[0m\u001b[0;34m[\u001b[0m\u001b[0;34m\"fpr\"\u001b[0m\u001b[0;34m]\u001b[0m\u001b[0;34m)\u001b[0m\u001b[0;34m\u001b[0m\u001b[0m\n",
      "\u001b[0;32m/mnt/c/Users/dimak/Git-Projects/anomalous-vertices-detection-master/anomalous_vertices_detection/learners/gllearner.py\u001b[0m in \u001b[0;36mtrain_classifier\u001b[0;34m(self, dataset, **kwargs)\u001b[0m\n\u001b[1;32m     34\u001b[0m \u001b[0;34m\u001b[0m\u001b[0m\n\u001b[1;32m     35\u001b[0m     \u001b[0;32mdef\u001b[0m \u001b[0mtrain_classifier\u001b[0m\u001b[0;34m(\u001b[0m\u001b[0mself\u001b[0m\u001b[0;34m,\u001b[0m \u001b[0mdataset\u001b[0m\u001b[0;34m,\u001b[0m \u001b[0;34m**\u001b[0m\u001b[0mkwargs\u001b[0m\u001b[0;34m)\u001b[0m\u001b[0;34m:\u001b[0m\u001b[0;34m\u001b[0m\u001b[0m\n\u001b[0;32m---> 36\u001b[0;31m         \u001b[0mself\u001b[0m\u001b[0;34m.\u001b[0m\u001b[0m_classifier\u001b[0m \u001b[0;34m=\u001b[0m \u001b[0mself\u001b[0m\u001b[0;34m.\u001b[0m\u001b[0m_classifier\u001b[0m\u001b[0;34m(\u001b[0m\u001b[0mdataset\u001b[0m\u001b[0;34m.\u001b[0m\u001b[0mfeatures\u001b[0m\u001b[0;34m,\u001b[0m \u001b[0mtarget\u001b[0m\u001b[0;34m=\u001b[0m\u001b[0mdataset\u001b[0m\u001b[0;34m.\u001b[0m\u001b[0mlabels\u001b[0m\u001b[0;34m)\u001b[0m\u001b[0;34m\u001b[0m\u001b[0m\n\u001b[0m\u001b[1;32m     37\u001b[0m         \u001b[0;32mprint\u001b[0m\u001b[0;34m(\u001b[0m\u001b[0mself\u001b[0m\u001b[0;34m.\u001b[0m\u001b[0mget_evaluation\u001b[0m\u001b[0;34m(\u001b[0m\u001b[0mdataset\u001b[0m\u001b[0;34m)\u001b[0m\u001b[0;34m)\u001b[0m\u001b[0;34m\u001b[0m\u001b[0m\n\u001b[1;32m     38\u001b[0m         \u001b[0;32mreturn\u001b[0m \u001b[0mself\u001b[0m\u001b[0;34m\u001b[0m\u001b[0m\n",
      "\u001b[0;31mTypeError\u001b[0m: 'RandomForestClassifier' object is not callable"
     ]
    }
   ],
   "source": [
    "glc.classify_by_links(academia_graph, result_path, test_size={\"neg\": 1000, \"pos\": 100},\n",
    "                      train_size={\"neg\": 20000, \"pos\": 20000}, meta_data_cols=meta_data_cols)"
   ]
  },
  {
   "cell_type": "code",
   "execution_count": 9,
   "metadata": {},
   "outputs": [],
   "source": [
    "import turicreate as tc"
   ]
  },
  {
   "cell_type": "code",
   "execution_count": 10,
   "metadata": {},
   "outputs": [
    {
     "data": {
      "text/html": [
       "<pre>Finished parsing file /home/kagandi/.avd/temp/academia_config_train.csv</pre>"
      ],
      "text/plain": [
       "Finished parsing file /home/kagandi/.avd/temp/academia_config_train.csv"
      ]
     },
     "metadata": {},
     "output_type": "display_data"
    },
    {
     "data": {
      "text/html": [
       "<pre>Parsing completed. Parsed 100 lines in 0.166706 secs.</pre>"
      ],
      "text/plain": [
       "Parsing completed. Parsed 100 lines in 0.166706 secs."
      ]
     },
     "metadata": {},
     "output_type": "display_data"
    },
    {
     "name": "stdout",
     "output_type": "stream",
     "text": [
      "------------------------------------------------------\n",
      "Inferred types from first 100 line(s) of file as \n",
      "column_type_hints=[float,int,int,float,str,float,int,float,int,float,float,str,str,int,float,float,float,float,float,float,float,float,float]\n",
      "If parsing fails due to incorrect types, you can correct\n",
      "the inferred type list above and pass it to read_csv in\n",
      "the column_type_hints argument\n",
      "------------------------------------------------------\n"
     ]
    },
    {
     "data": {
      "text/html": [
       "<pre>Unable to parse line \"25.0,0,0,1075.0,False,0.0,Fake14379,68.0,0,8.0,0.0,Fake,349569,0,43.0,1.3333333333333333,1.1961161351381842,0.48408900562221513,0.3333333333333333,0.34687180742706586,0.19611613513818404,0.050251890762960605,0.029565619799454133\"</pre>"
      ],
      "text/plain": [
       "Unable to parse line \"25.0,0,0,1075.0,False,0.0,Fake14379,68.0,0,8.0,0.0,Fake,349569,0,43.0,1.3333333333333333,1.1961161351381842,0.48408900562221513,0.3333333333333333,0.34687180742706586,0.19611613513818404,0.050251890762960605,0.029565619799454133\""
      ]
     },
     "metadata": {},
     "output_type": "display_data"
    },
    {
     "data": {
      "text/html": [
       "<pre>Unable to parse line \"49.0,0,0,1127.0,False,0.0,Fake65853,72.0,0,28.0,0.0,Fake,105128,0,23.0,1.1856953381770519,1.1414213562373094,0.3898194834089834,0.18569533817705186,0.345545501469241,0.1414213562373095,0.037904902178945175,0.02886751345948129\"</pre>"
      ],
      "text/plain": [
       "Unable to parse line \"49.0,0,0,1127.0,False,0.0,Fake65853,72.0,0,28.0,0.0,Fake,105128,0,23.0,1.1856953381770519,1.1414213562373094,0.3898194834089834,0.18569533817705186,0.345545501469241,0.1414213562373095,0.037904902178945175,0.02886751345948129\""
      ]
     },
     "metadata": {},
     "output_type": "display_data"
    },
    {
     "data": {
      "text/html": [
       "<pre>Unable to parse line \"55.0,0,0,605.0,False,0.0,Fake4516,66.0,0,0.0,0.0,Fake,Fake7630,0,11.0,2.0,1.1336306209562121,1.2886751345948129,1.0,0.4223057555510251,0.1336306209562122,0.2886751345948129,0.038575837490522985\"</pre>"
      ],
      "text/plain": [
       "Unable to parse line \"55.0,0,0,605.0,False,0.0,Fake4516,66.0,0,0.0,0.0,Fake,Fake7630,0,11.0,2.0,1.1336306209562121,1.2886751345948129,1.0,0.4223057555510251,0.1336306209562122,0.2886751345948129,0.038575837490522985\""
      ]
     },
     "metadata": {},
     "output_type": "display_data"
    },
    {
     "data": {
      "text/html": [
       "<pre>Unable to parse line \"21.0,0,0,504.0,False,0.0,Fake11431,45.0,0,18.0,0.0,Fake,423143,0,24.0,1.2294157338705618,1.2132007163556104,0.42941573387056176,0.22941573387056174,0.4132007163556104,0.21320071635561041,0.04588314677411235,0.04264014327112209\"</pre>"
      ],
      "text/plain": [
       "Unable to parse line \"21.0,0,0,504.0,False,0.0,Fake11431,45.0,0,18.0,0.0,Fake,423143,0,24.0,1.2294157338705618,1.2132007163556104,0.42941573387056176,0.22941573387056174,0.4132007163556104,0.21320071635561041,0.04588314677411235,0.04264014327112209\""
      ]
     },
     "metadata": {},
     "output_type": "display_data"
    },
    {
     "data": {
      "text/html": [
       "<pre>Unable to parse line \"14.0,0,0,644.0,False,0.0,Fake8270,60.0,0,0.0,0.0,Fake,Fake47989,0,46.0,2.0,1.258198889747161,1.1458649914978944,1.0,0.40406388124505566,0.2581988897471611,0.14586499149789456,0.03766217885773547\"</pre>"
      ],
      "text/plain": [
       "Unable to parse line \"14.0,0,0,644.0,False,0.0,Fake8270,60.0,0,0.0,0.0,Fake,Fake47989,0,46.0,2.0,1.258198889747161,1.1458649914978944,1.0,0.40406388124505566,0.2581988897471611,0.14586499149789456,0.03766217885773547\""
      ]
     },
     "metadata": {},
     "output_type": "display_data"
    },
    {
     "data": {
      "text/html": [
       "<pre>Unable to parse line \"11.0,0,0,187.0,False,0.0,Fake52203,28.0,0,19.0,0.0,Fake,27444,0,17.0,1.223606797749979,1.2886751345948129,0.45930905814549483,0.22360679774997896,0.5243773949903288,0.2886751345948129,0.052704627669472995,0.06804138174397718\"</pre>"
      ],
      "text/plain": [
       "Unable to parse line \"11.0,0,0,187.0,False,0.0,Fake52203,28.0,0,19.0,0.0,Fake,27444,0,17.0,1.223606797749979,1.2886751345948129,0.45930905814549483,0.22360679774997896,0.5243773949903288,0.2886751345948129,0.052704627669472995,0.06804138174397718\""
      ]
     },
     "metadata": {},
     "output_type": "display_data"
    },
    {
     "data": {
      "text/html": [
       "<pre>Unable to parse line \"70.0,0,0,980.0,False,0.0,Fake56099,84.0,0,56.0,0.0,Fake,14,0,14.0,1.1324532357065045,1.1186781658193854,0.39065212545366546,0.13245323570650439,0.37687705556654644,0.11867816581938533,0.03419927840283847,0.030642570651794775\"</pre>"
      ],
      "text/plain": [
       "Unable to parse line \"70.0,0,0,980.0,False,0.0,Fake56099,84.0,0,56.0,0.0,Fake,14,0,14.0,1.1324532357065045,1.1186781658193854,0.39065212545366546,0.13245323570650439,0.37687705556654644,0.11867816581938533,0.03419927840283847,0.030642570651794775\""
      ]
     },
     "metadata": {},
     "output_type": "display_data"
    },
    {
     "data": {
      "text/html": [
       "<pre>Unable to parse line \"14.0,0,0,266.0,False,0.0,Fake24848,33.0,0,15.0,0.0,Fake,318870,0,19.0,1.25,1.258198889747161,0.47360679774997894,0.25,0.48180568749714003,0.2581988897471611,0.05590169943749474,0.05773502691896257\"</pre>"
      ],
      "text/plain": [
       "Unable to parse line \"14.0,0,0,266.0,False,0.0,Fake24848,33.0,0,15.0,0.0,Fake,318870,0,19.0,1.25,1.258198889747161,0.47360679774997894,0.25,0.48180568749714003,0.2581988897471611,0.05590169943749474,0.05773502691896257\""
      ]
     },
     "metadata": {},
     "output_type": "display_data"
    },
    {
     "data": {
      "text/html": [
       "<pre>Unable to parse line \"26.0,0,0,806.0,False,0.0,Fake22561,57.0,0,19.0,0.0,Fake,338509,0,31.0,1.223606797749979,1.1924500897298753,0.4003834930466158,0.22360679774997896,0.3692267850265121,0.19245008972987526,0.039528470752104736,0.034020690871988585\"</pre>"
      ],
      "text/plain": [
       "Unable to parse line \"26.0,0,0,806.0,False,0.0,Fake22561,57.0,0,19.0,0.0,Fake,338509,0,31.0,1.223606797749979,1.1924500897298753,0.4003834930466158,0.22360679774997896,0.3692267850265121,0.19245008972987526,0.039528470752104736,0.034020690871988585\""
      ]
     },
     "metadata": {},
     "output_type": "display_data"
    },
    {
     "data": {
      "text/html": [
       "<pre>Unable to parse line \"29.0,0,0,3567.0,False,0.0,Fake7831,152.0,0,8.0,0.0,Fake,141154,0,123.0,1.3333333333333333,1.1825741858350554,0.4231359843467208,0.3333333333333333,0.2723768368484428,0.18257418583505536,0.029934217004462485,0.016395645894598822\"</pre>"
      ],
      "text/plain": [
       "Unable to parse line \"29.0,0,0,3567.0,False,0.0,Fake7831,152.0,0,8.0,0.0,Fake,141154,0,123.0,1.3333333333333333,1.1825741858350554,0.4231359843467208,0.3333333333333333,0.2723768368484428,0.18257418583505536,0.029934217004462485,0.016395645894598822\""
      ]
     },
     "metadata": {},
     "output_type": "display_data"
    },
    {
     "data": {
      "text/html": [
       "<pre>6213 lines failed to parse correctly</pre>"
      ],
      "text/plain": [
       "6213 lines failed to parse correctly"
      ]
     },
     "metadata": {},
     "output_type": "display_data"
    },
    {
     "data": {
      "text/html": [
       "<pre>Finished parsing file /home/kagandi/.avd/temp/academia_config_train.csv</pre>"
      ],
      "text/plain": [
       "Finished parsing file /home/kagandi/.avd/temp/academia_config_train.csv"
      ]
     },
     "metadata": {},
     "output_type": "display_data"
    },
    {
     "data": {
      "text/html": [
       "<pre>Parsing completed. Parsed 33787 lines in 0.191702 secs.</pre>"
      ],
      "text/plain": [
       "Parsing completed. Parsed 33787 lines in 0.191702 secs."
      ]
     },
     "metadata": {},
     "output_type": "display_data"
    }
   ],
   "source": [
    "df = tc.SFrame().read_csv(\"/home/kagandi/.avd/temp/academia_config_train.csv\")"
   ]
  },
  {
   "cell_type": "code",
   "execution_count": null,
   "metadata": {},
   "outputs": [],
   "source": [
    "tc.SFrame(data=[df[i] for i in range(10)]).unpack('X1', column_name_prefix=\"\")"
   ]
  },
  {
   "cell_type": "code",
   "execution_count": null,
   "metadata": {},
   "outputs": [],
   "source": [
    "'label' not in features.column_names()"
   ]
  },
  {
   "cell_type": "code",
   "execution_count": null,
   "metadata": {},
   "outputs": [],
   "source": [
    "features = features.rename({'edge_label': 'label'})"
   ]
  },
  {
   "cell_type": "code",
   "execution_count": null,
   "metadata": {},
   "outputs": [],
   "source": [
    "import numpy as np\n",
    "x = np.arange(100)\n",
    "x"
   ]
  },
  {
   "cell_type": "code",
   "execution_count": null,
   "metadata": {},
   "outputs": [],
   "source": [
    "\n",
    "def split_kfold(data, labels=None, n_folds=10):\n",
    "    x = np.arange(len(data))\n",
    "    np.random.shuffle(x)\n",
    "    split = np.array_split(x, n_folds)\n",
    "    split_copy = np.copy(split)\n",
    "    for i, item in enumerate(split):\n",
    "        temp = item\n",
    "        split_copy = np.delete(split_copy, i, 0)\n",
    "        yield np.block(split_copy), item\n",
    "        split_copy = np.insert(split_copy, i, item, axis=0)\n"
   ]
  },
  {
   "cell_type": "code",
   "execution_count": null,
   "metadata": {},
   "outputs": [],
   "source": [
    "split = split_kfold(range(100))"
   ]
  },
  {
   "cell_type": "code",
   "execution_count": null,
   "metadata": {},
   "outputs": [],
   "source": [
    "r = split.next()"
   ]
  },
  {
   "cell_type": "code",
   "execution_count": null,
   "metadata": {},
   "outputs": [],
   "source": [
    "tr, ts = r"
   ]
  },
  {
   "cell_type": "code",
   "execution_count": null,
   "metadata": {},
   "outputs": [],
   "source": [
    "tr =np.hstack(tr)"
   ]
  },
  {
   "cell_type": "code",
   "execution_count": null,
   "metadata": {},
   "outputs": [],
   "source": [
    "tr"
   ]
  },
  {
   "cell_type": "code",
   "execution_count": null,
   "metadata": {},
   "outputs": [],
   "source": [
    "df['id'] = range(df.num_rows())"
   ]
  },
  {
   "cell_type": "code",
   "execution_count": null,
   "metadata": {},
   "outputs": [],
   "source": [
    "df.filter_by(tr, 'id')"
   ]
  },
  {
   "cell_type": "code",
   "execution_count": 14,
   "metadata": {},
   "outputs": [],
   "source": [
    "pos_data = df[df[\"edge_label\"] == \"Real\"]"
   ]
  },
  {
   "cell_type": "code",
   "execution_count": 15,
   "metadata": {},
   "outputs": [
    {
     "data": {
      "text/html": [
       "<div style=\"max-height:1000px;max-width:1500px;overflow:auto;\"><table frame=\"box\" rules=\"cols\">\n",
       "    <tr>\n",
       "        <th style=\"padding-left: 1em; padding-right: 1em; text-align: center\">out_degree_v</th>\n",
       "        <th style=\"padding-left: 1em; padding-right: 1em; text-align: center\">out_common_friends</th>\n",
       "        <th style=\"padding-left: 1em; padding-right: 1em; text-align: center\">bi_common_friends</th>\n",
       "        <th style=\"padding-left: 1em; padding-right: 1em; text-align: center\">preferential_attachment_s<br>core ...</th>\n",
       "        <th style=\"padding-left: 1em; padding-right: 1em; text-align: center\">is_opposite_direction_fri<br>ends ...</th>\n",
       "    </tr>\n",
       "    <tr>\n",
       "        <td style=\"padding-left: 1em; padding-right: 1em; text-align: center; vertical-align: top\">56.0</td>\n",
       "        <td style=\"padding-left: 1em; padding-right: 1em; text-align: center; vertical-align: top\">7</td>\n",
       "        <td style=\"padding-left: 1em; padding-right: 1em; text-align: center; vertical-align: top\">5</td>\n",
       "        <td style=\"padding-left: 1em; padding-right: 1em; text-align: center; vertical-align: top\">672.0</td>\n",
       "        <td style=\"padding-left: 1em; padding-right: 1em; text-align: center; vertical-align: top\">False</td>\n",
       "    </tr>\n",
       "    <tr>\n",
       "        <td style=\"padding-left: 1em; padding-right: 1em; text-align: center; vertical-align: top\">49.0</td>\n",
       "        <td style=\"padding-left: 1em; padding-right: 1em; text-align: center; vertical-align: top\">0</td>\n",
       "        <td style=\"padding-left: 1em; padding-right: 1em; text-align: center; vertical-align: top\">0</td>\n",
       "        <td style=\"padding-left: 1em; padding-right: 1em; text-align: center; vertical-align: top\">833.0</td>\n",
       "        <td style=\"padding-left: 1em; padding-right: 1em; text-align: center; vertical-align: top\">False</td>\n",
       "    </tr>\n",
       "    <tr>\n",
       "        <td style=\"padding-left: 1em; padding-right: 1em; text-align: center; vertical-align: top\">14.0</td>\n",
       "        <td style=\"padding-left: 1em; padding-right: 1em; text-align: center; vertical-align: top\">1</td>\n",
       "        <td style=\"padding-left: 1em; padding-right: 1em; text-align: center; vertical-align: top\">0</td>\n",
       "        <td style=\"padding-left: 1em; padding-right: 1em; text-align: center; vertical-align: top\">154.0</td>\n",
       "        <td style=\"padding-left: 1em; padding-right: 1em; text-align: center; vertical-align: top\">False</td>\n",
       "    </tr>\n",
       "    <tr>\n",
       "        <td style=\"padding-left: 1em; padding-right: 1em; text-align: center; vertical-align: top\">21.0</td>\n",
       "        <td style=\"padding-left: 1em; padding-right: 1em; text-align: center; vertical-align: top\">1</td>\n",
       "        <td style=\"padding-left: 1em; padding-right: 1em; text-align: center; vertical-align: top\">0</td>\n",
       "        <td style=\"padding-left: 1em; padding-right: 1em; text-align: center; vertical-align: top\">966.0</td>\n",
       "        <td style=\"padding-left: 1em; padding-right: 1em; text-align: center; vertical-align: top\">False</td>\n",
       "    </tr>\n",
       "    <tr>\n",
       "        <td style=\"padding-left: 1em; padding-right: 1em; text-align: center; vertical-align: top\">49.0</td>\n",
       "        <td style=\"padding-left: 1em; padding-right: 1em; text-align: center; vertical-align: top\">2</td>\n",
       "        <td style=\"padding-left: 1em; padding-right: 1em; text-align: center; vertical-align: top\">1</td>\n",
       "        <td style=\"padding-left: 1em; padding-right: 1em; text-align: center; vertical-align: top\">833.0</td>\n",
       "        <td style=\"padding-left: 1em; padding-right: 1em; text-align: center; vertical-align: top\">False</td>\n",
       "    </tr>\n",
       "    <tr>\n",
       "        <td style=\"padding-left: 1em; padding-right: 1em; text-align: center; vertical-align: top\">13955.0</td>\n",
       "        <td style=\"padding-left: 1em; padding-right: 1em; text-align: center; vertical-align: top\">207</td>\n",
       "        <td style=\"padding-left: 1em; padding-right: 1em; text-align: center; vertical-align: top\">13</td>\n",
       "        <td style=\"padding-left: 1em; padding-right: 1em; text-align: center; vertical-align: top\">4870295.0</td>\n",
       "        <td style=\"padding-left: 1em; padding-right: 1em; text-align: center; vertical-align: top\">False</td>\n",
       "    </tr>\n",
       "    <tr>\n",
       "        <td style=\"padding-left: 1em; padding-right: 1em; text-align: center; vertical-align: top\">149.0</td>\n",
       "        <td style=\"padding-left: 1em; padding-right: 1em; text-align: center; vertical-align: top\">0</td>\n",
       "        <td style=\"padding-left: 1em; padding-right: 1em; text-align: center; vertical-align: top\">0</td>\n",
       "        <td style=\"padding-left: 1em; padding-right: 1em; text-align: center; vertical-align: top\">2086.0</td>\n",
       "        <td style=\"padding-left: 1em; padding-right: 1em; text-align: center; vertical-align: top\">False</td>\n",
       "    </tr>\n",
       "    <tr>\n",
       "        <td style=\"padding-left: 1em; padding-right: 1em; text-align: center; vertical-align: top\">92.0</td>\n",
       "        <td style=\"padding-left: 1em; padding-right: 1em; text-align: center; vertical-align: top\">5</td>\n",
       "        <td style=\"padding-left: 1em; padding-right: 1em; text-align: center; vertical-align: top\">0</td>\n",
       "        <td style=\"padding-left: 1em; padding-right: 1em; text-align: center; vertical-align: top\">16376.0</td>\n",
       "        <td style=\"padding-left: 1em; padding-right: 1em; text-align: center; vertical-align: top\">False</td>\n",
       "    </tr>\n",
       "    <tr>\n",
       "        <td style=\"padding-left: 1em; padding-right: 1em; text-align: center; vertical-align: top\">12.0</td>\n",
       "        <td style=\"padding-left: 1em; padding-right: 1em; text-align: center; vertical-align: top\">0</td>\n",
       "        <td style=\"padding-left: 1em; padding-right: 1em; text-align: center; vertical-align: top\">0</td>\n",
       "        <td style=\"padding-left: 1em; padding-right: 1em; text-align: center; vertical-align: top\">180.0</td>\n",
       "        <td style=\"padding-left: 1em; padding-right: 1em; text-align: center; vertical-align: top\">False</td>\n",
       "    </tr>\n",
       "    <tr>\n",
       "        <td style=\"padding-left: 1em; padding-right: 1em; text-align: center; vertical-align: top\">31.0</td>\n",
       "        <td style=\"padding-left: 1em; padding-right: 1em; text-align: center; vertical-align: top\">0</td>\n",
       "        <td style=\"padding-left: 1em; padding-right: 1em; text-align: center; vertical-align: top\">0</td>\n",
       "        <td style=\"padding-left: 1em; padding-right: 1em; text-align: center; vertical-align: top\">1054.0</td>\n",
       "        <td style=\"padding-left: 1em; padding-right: 1em; text-align: center; vertical-align: top\">False</td>\n",
       "    </tr>\n",
       "</table>\n",
       "<table frame=\"box\" rules=\"cols\">\n",
       "    <tr>\n",
       "        <th style=\"padding-left: 1em; padding-right: 1em; text-align: center\">jaccards_coefficient</th>\n",
       "        <th style=\"padding-left: 1em; padding-right: 1em; text-align: center\">dst</th>\n",
       "        <th style=\"padding-left: 1em; padding-right: 1em; text-align: center\">total_friends</th>\n",
       "        <th style=\"padding-left: 1em; padding-right: 1em; text-align: center\">number_of_transitive_frie<br>nds ...</th>\n",
       "        <th style=\"padding-left: 1em; padding-right: 1em; text-align: center\">in_degree_v</th>\n",
       "        <th style=\"padding-left: 1em; padding-right: 1em; text-align: center\">in_degree_u</th>\n",
       "        <th style=\"padding-left: 1em; padding-right: 1em; text-align: center\">edge_label</th>\n",
       "    </tr>\n",
       "    <tr>\n",
       "        <td style=\"padding-left: 1em; padding-right: 1em; text-align: center; vertical-align: top\">0.114754098361</td>\n",
       "        <td style=\"padding-left: 1em; padding-right: 1em; text-align: center; vertical-align: top\">49092</td>\n",
       "        <td style=\"padding-left: 1em; padding-right: 1em; text-align: center; vertical-align: top\">61.0</td>\n",
       "        <td style=\"padding-left: 1em; padding-right: 1em; text-align: center; vertical-align: top\">5</td>\n",
       "        <td style=\"padding-left: 1em; padding-right: 1em; text-align: center; vertical-align: top\">36.0</td>\n",
       "        <td style=\"padding-left: 1em; padding-right: 1em; text-align: center; vertical-align: top\">13.0</td>\n",
       "        <td style=\"padding-left: 1em; padding-right: 1em; text-align: center; vertical-align: top\">Real</td>\n",
       "    </tr>\n",
       "    <tr>\n",
       "        <td style=\"padding-left: 1em; padding-right: 1em; text-align: center; vertical-align: top\">0.0</td>\n",
       "        <td style=\"padding-left: 1em; padding-right: 1em; text-align: center; vertical-align: top\">170032</td>\n",
       "        <td style=\"padding-left: 1em; padding-right: 1em; text-align: center; vertical-align: top\">66.0</td>\n",
       "        <td style=\"padding-left: 1em; padding-right: 1em; text-align: center; vertical-align: top\">0</td>\n",
       "        <td style=\"padding-left: 1em; padding-right: 1em; text-align: center; vertical-align: top\">0.0</td>\n",
       "        <td style=\"padding-left: 1em; padding-right: 1em; text-align: center; vertical-align: top\">18.0</td>\n",
       "        <td style=\"padding-left: 1em; padding-right: 1em; text-align: center; vertical-align: top\">Real</td>\n",
       "    </tr>\n",
       "    <tr>\n",
       "        <td style=\"padding-left: 1em; padding-right: 1em; text-align: center; vertical-align: top\">0.0416666666667</td>\n",
       "        <td style=\"padding-left: 1em; padding-right: 1em; text-align: center; vertical-align: top\">321695</td>\n",
       "        <td style=\"padding-left: 1em; padding-right: 1em; text-align: center; vertical-align: top\">24.0</td>\n",
       "        <td style=\"padding-left: 1em; padding-right: 1em; text-align: center; vertical-align: top\">0</td>\n",
       "        <td style=\"padding-left: 1em; padding-right: 1em; text-align: center; vertical-align: top\">7.0</td>\n",
       "        <td style=\"padding-left: 1em; padding-right: 1em; text-align: center; vertical-align: top\">10.0</td>\n",
       "        <td style=\"padding-left: 1em; padding-right: 1em; text-align: center; vertical-align: top\">Real</td>\n",
       "    </tr>\n",
       "    <tr>\n",
       "        <td style=\"padding-left: 1em; padding-right: 1em; text-align: center; vertical-align: top\">0.0151515151515</td>\n",
       "        <td style=\"padding-left: 1em; padding-right: 1em; text-align: center; vertical-align: top\">76869</td>\n",
       "        <td style=\"padding-left: 1em; padding-right: 1em; text-align: center; vertical-align: top\">66.0</td>\n",
       "        <td style=\"padding-left: 1em; padding-right: 1em; text-align: center; vertical-align: top\">0</td>\n",
       "        <td style=\"padding-left: 1em; padding-right: 1em; text-align: center; vertical-align: top\">17.0</td>\n",
       "        <td style=\"padding-left: 1em; padding-right: 1em; text-align: center; vertical-align: top\">24.0</td>\n",
       "        <td style=\"padding-left: 1em; padding-right: 1em; text-align: center; vertical-align: top\">Real</td>\n",
       "    </tr>\n",
       "    <tr>\n",
       "        <td style=\"padding-left: 1em; padding-right: 1em; text-align: center; vertical-align: top\">0.03125</td>\n",
       "        <td style=\"padding-left: 1em; padding-right: 1em; text-align: center; vertical-align: top\">9299</td>\n",
       "        <td style=\"padding-left: 1em; padding-right: 1em; text-align: center; vertical-align: top\">64.0</td>\n",
       "        <td style=\"padding-left: 1em; padding-right: 1em; text-align: center; vertical-align: top\">2</td>\n",
       "        <td style=\"padding-left: 1em; padding-right: 1em; text-align: center; vertical-align: top\">49.0</td>\n",
       "        <td style=\"padding-left: 1em; padding-right: 1em; text-align: center; vertical-align: top\">11.0</td>\n",
       "        <td style=\"padding-left: 1em; padding-right: 1em; text-align: center; vertical-align: top\">Real</td>\n",
       "    </tr>\n",
       "    <tr>\n",
       "        <td style=\"padding-left: 1em; padding-right: 1em; text-align: center; vertical-align: top\">0.0146839753139</td>\n",
       "        <td style=\"padding-left: 1em; padding-right: 1em; text-align: center; vertical-align: top\">5383</td>\n",
       "        <td style=\"padding-left: 1em; padding-right: 1em; text-align: center; vertical-align: top\">14097.0</td>\n",
       "        <td style=\"padding-left: 1em; padding-right: 1em; text-align: center; vertical-align: top\">13</td>\n",
       "        <td style=\"padding-left: 1em; padding-right: 1em; text-align: center; vertical-align: top\">937.0</td>\n",
       "        <td style=\"padding-left: 1em; padding-right: 1em; text-align: center; vertical-align: top\">249.0</td>\n",
       "        <td style=\"padding-left: 1em; padding-right: 1em; text-align: center; vertical-align: top\">Real</td>\n",
       "    </tr>\n",
       "    <tr>\n",
       "        <td style=\"padding-left: 1em; padding-right: 1em; text-align: center; vertical-align: top\">0.0</td>\n",
       "        <td style=\"padding-left: 1em; padding-right: 1em; text-align: center; vertical-align: top\">485942</td>\n",
       "        <td style=\"padding-left: 1em; padding-right: 1em; text-align: center; vertical-align: top\">163.0</td>\n",
       "        <td style=\"padding-left: 1em; padding-right: 1em; text-align: center; vertical-align: top\">0</td>\n",
       "        <td style=\"padding-left: 1em; padding-right: 1em; text-align: center; vertical-align: top\">151.0</td>\n",
       "        <td style=\"padding-left: 1em; padding-right: 1em; text-align: center; vertical-align: top\">18.0</td>\n",
       "        <td style=\"padding-left: 1em; padding-right: 1em; text-align: center; vertical-align: top\">Real</td>\n",
       "    </tr>\n",
       "    <tr>\n",
       "        <td style=\"padding-left: 1em; padding-right: 1em; text-align: center; vertical-align: top\">0.0188679245283</td>\n",
       "        <td style=\"padding-left: 1em; padding-right: 1em; text-align: center; vertical-align: top\">62184</td>\n",
       "        <td style=\"padding-left: 1em; padding-right: 1em; text-align: center; vertical-align: top\">265.0</td>\n",
       "        <td style=\"padding-left: 1em; padding-right: 1em; text-align: center; vertical-align: top\">0</td>\n",
       "        <td style=\"padding-left: 1em; padding-right: 1em; text-align: center; vertical-align: top\">21.0</td>\n",
       "        <td style=\"padding-left: 1em; padding-right: 1em; text-align: center; vertical-align: top\">124.0</td>\n",
       "        <td style=\"padding-left: 1em; padding-right: 1em; text-align: center; vertical-align: top\">Real</td>\n",
       "    </tr>\n",
       "    <tr>\n",
       "        <td style=\"padding-left: 1em; padding-right: 1em; text-align: center; vertical-align: top\">0.0</td>\n",
       "        <td style=\"padding-left: 1em; padding-right: 1em; text-align: center; vertical-align: top\">10296</td>\n",
       "        <td style=\"padding-left: 1em; padding-right: 1em; text-align: center; vertical-align: top\">27.0</td>\n",
       "        <td style=\"padding-left: 1em; padding-right: 1em; text-align: center; vertical-align: top\">0</td>\n",
       "        <td style=\"padding-left: 1em; padding-right: 1em; text-align: center; vertical-align: top\">4.0</td>\n",
       "        <td style=\"padding-left: 1em; padding-right: 1em; text-align: center; vertical-align: top\">27.0</td>\n",
       "        <td style=\"padding-left: 1em; padding-right: 1em; text-align: center; vertical-align: top\">Real</td>\n",
       "    </tr>\n",
       "    <tr>\n",
       "        <td style=\"padding-left: 1em; padding-right: 1em; text-align: center; vertical-align: top\">0.0</td>\n",
       "        <td style=\"padding-left: 1em; padding-right: 1em; text-align: center; vertical-align: top\">14664</td>\n",
       "        <td style=\"padding-left: 1em; padding-right: 1em; text-align: center; vertical-align: top\">65.0</td>\n",
       "        <td style=\"padding-left: 1em; padding-right: 1em; text-align: center; vertical-align: top\">0</td>\n",
       "        <td style=\"padding-left: 1em; padding-right: 1em; text-align: center; vertical-align: top\">0.0</td>\n",
       "        <td style=\"padding-left: 1em; padding-right: 1em; text-align: center; vertical-align: top\">27.0</td>\n",
       "        <td style=\"padding-left: 1em; padding-right: 1em; text-align: center; vertical-align: top\">Real</td>\n",
       "    </tr>\n",
       "</table>\n",
       "<table frame=\"box\" rules=\"cols\">\n",
       "    <tr>\n",
       "        <th style=\"padding-left: 1em; padding-right: 1em; text-align: center\">src</th>\n",
       "        <th style=\"padding-left: 1em; padding-right: 1em; text-align: center\">in_common_friends</th>\n",
       "        <th style=\"padding-left: 1em; padding-right: 1em; text-align: center\">out_degree_u</th>\n",
       "        <th style=\"padding-left: 1em; padding-right: 1em; text-align: center\">knn_weight1</th>\n",
       "        <th style=\"padding-left: 1em; padding-right: 1em; text-align: center\">knn_weight3</th>\n",
       "        <th style=\"padding-left: 1em; padding-right: 1em; text-align: center\">knn_weight2</th>\n",
       "        <th style=\"padding-left: 1em; padding-right: 1em; text-align: center\">knn_weight5</th>\n",
       "    </tr>\n",
       "    <tr>\n",
       "        <td style=\"padding-left: 1em; padding-right: 1em; text-align: center; vertical-align: top\">75586</td>\n",
       "        <td style=\"padding-left: 1em; padding-right: 1em; text-align: center; vertical-align: top\">7</td>\n",
       "        <td style=\"padding-left: 1em; padding-right: 1em; text-align: center; vertical-align: top\">12.0</td>\n",
       "        <td style=\"padding-left: 1em; padding-right: 1em; text-align: center; vertical-align: top\">0.431660229218</td>\n",
       "        <td style=\"padding-left: 1em; padding-right: 1em; text-align: center; vertical-align: top\">0.399714477619</td>\n",
       "        <td style=\"padding-left: 1em; padding-right: 1em; text-align: center; vertical-align: top\">0.441749085418</td>\n",
       "        <td style=\"padding-left: 1em; padding-right: 1em; text-align: center; vertical-align: top\">0.0439374775164</td>\n",
       "    </tr>\n",
       "    <tr>\n",
       "        <td style=\"padding-left: 1em; padding-right: 1em; text-align: center; vertical-align: top\">Fake66819</td>\n",
       "        <td style=\"padding-left: 1em; padding-right: 1em; text-align: center; vertical-align: top\">0</td>\n",
       "        <td style=\"padding-left: 1em; padding-right: 1em; text-align: center; vertical-align: top\">17.0</td>\n",
       "        <td style=\"padding-left: 1em; padding-right: 1em; text-align: center; vertical-align: top\">1.22941573387</td>\n",
       "        <td style=\"padding-left: 1em; padding-right: 1em; text-align: center; vertical-align: top\">0.370837090108</td>\n",
       "        <td style=\"padding-left: 1em; padding-right: 1em; text-align: center; vertical-align: top\">1.2357022604</td>\n",
       "        <td style=\"padding-left: 1em; padding-right: 1em; text-align: center; vertical-align: top\">0.229415733871</td>\n",
       "    </tr>\n",
       "    <tr>\n",
       "        <td style=\"padding-left: 1em; padding-right: 1em; text-align: center; vertical-align: top\">321690</td>\n",
       "        <td style=\"padding-left: 1em; padding-right: 1em; text-align: center; vertical-align: top\">1</td>\n",
       "        <td style=\"padding-left: 1em; padding-right: 1em; text-align: center; vertical-align: top\">11.0</td>\n",
       "        <td style=\"padding-left: 1em; padding-right: 1em; text-align: center; vertical-align: top\">0.655064735171</td>\n",
       "        <td style=\"padding-left: 1em; padding-right: 1em; text-align: center; vertical-align: top\">0.559710234325</td>\n",
       "        <td style=\"padding-left: 1em; padding-right: 1em; text-align: center; vertical-align: top\">0.642228525188</td>\n",
       "        <td style=\"padding-left: 1em; padding-right: 1em; text-align: center; vertical-align: top\">0.106600358178</td>\n",
       "    </tr>\n",
       "    <tr>\n",
       "        <td style=\"padding-left: 1em; padding-right: 1em; text-align: center; vertical-align: top\">267624</td>\n",
       "        <td style=\"padding-left: 1em; padding-right: 1em; text-align: center; vertical-align: top\">1</td>\n",
       "        <td style=\"padding-left: 1em; padding-right: 1em; text-align: center; vertical-align: top\">46.0</td>\n",
       "        <td style=\"padding-left: 1em; padding-right: 1em; text-align: center; vertical-align: top\">0.435702260396</td>\n",
       "        <td style=\"padding-left: 1em; padding-right: 1em; text-align: center; vertical-align: top\">0.413200716356</td>\n",
       "        <td style=\"padding-left: 1em; padding-right: 1em; text-align: center; vertical-align: top\">0.381567251893</td>\n",
       "        <td style=\"padding-left: 1em; padding-right: 1em; text-align: center; vertical-align: top\">0.0471404520791</td>\n",
       "    </tr>\n",
       "    <tr>\n",
       "        <td style=\"padding-left: 1em; padding-right: 1em; text-align: center; vertical-align: top\">48699</td>\n",
       "        <td style=\"padding-left: 1em; padding-right: 1em; text-align: center; vertical-align: top\">2</td>\n",
       "        <td style=\"padding-left: 1em; padding-right: 1em; text-align: center; vertical-align: top\">17.0</td>\n",
       "        <td style=\"padding-left: 1em; padding-right: 1em; text-align: center; vertical-align: top\">0.430096490832</td>\n",
       "        <td style=\"padding-left: 1em; padding-right: 1em; text-align: center; vertical-align: top\">0.430096490832</td>\n",
       "        <td style=\"padding-left: 1em; padding-right: 1em; text-align: center; vertical-align: top\">0.377123616633</td>\n",
       "        <td style=\"padding-left: 1em; padding-right: 1em; text-align: center; vertical-align: top\">0.0408248290464</td>\n",
       "    </tr>\n",
       "    <tr>\n",
       "        <td style=\"padding-left: 1em; padding-right: 1em; text-align: center; vertical-align: top\">2547</td>\n",
       "        <td style=\"padding-left: 1em; padding-right: 1em; text-align: center; vertical-align: top\">207</td>\n",
       "        <td style=\"padding-left: 1em; padding-right: 1em; text-align: center; vertical-align: top\">349.0</td>\n",
       "        <td style=\"padding-left: 1em; padding-right: 1em; text-align: center; vertical-align: top\">0.0958967106258</td>\n",
       "        <td style=\"padding-left: 1em; padding-right: 1em; text-align: center; vertical-align: top\">0.0717104081335</td>\n",
       "        <td style=\"padding-left: 1em; padding-right: 1em; text-align: center; vertical-align: top\">0.0861034058049</td>\n",
       "        <td style=\"padding-left: 1em; padding-right: 1em; text-align: center; vertical-align: top\">0.00206504051391</td>\n",
       "    </tr>\n",
       "    <tr>\n",
       "        <td style=\"padding-left: 1em; padding-right: 1em; text-align: center; vertical-align: top\">20381</td>\n",
       "        <td style=\"padding-left: 1em; padding-right: 1em; text-align: center; vertical-align: top\">0</td>\n",
       "        <td style=\"padding-left: 1em; padding-right: 1em; text-align: center; vertical-align: top\">14.0</td>\n",
       "        <td style=\"padding-left: 1em; padding-right: 1em; text-align: center; vertical-align: top\">0.310526444436</td>\n",
       "        <td style=\"padding-left: 1em; padding-right: 1em; text-align: center; vertical-align: top\">0.311065391963</td>\n",
       "        <td style=\"padding-left: 1em; padding-right: 1em; text-align: center; vertical-align: top\">0.339309600313</td>\n",
       "        <td style=\"padding-left: 1em; padding-right: 1em; text-align: center; vertical-align: top\">0.0186080731891</td>\n",
       "    </tr>\n",
       "    <tr>\n",
       "        <td style=\"padding-left: 1em; padding-right: 1em; text-align: center; vertical-align: top\">379010</td>\n",
       "        <td style=\"padding-left: 1em; padding-right: 1em; text-align: center; vertical-align: top\">5</td>\n",
       "        <td style=\"padding-left: 1em; padding-right: 1em; text-align: center; vertical-align: top\">178.0</td>\n",
       "        <td style=\"padding-left: 1em; padding-right: 1em; text-align: center; vertical-align: top\">0.302643435456</td>\n",
       "        <td style=\"padding-left: 1em; padding-right: 1em; text-align: center; vertical-align: top\">0.193137888573</td>\n",
       "        <td style=\"padding-left: 1em; padding-right: 1em; text-align: center; vertical-align: top\">0.287944225631</td>\n",
       "        <td style=\"padding-left: 1em; padding-right: 1em; text-align: center; vertical-align: top\">0.0190692517849</td>\n",
       "    </tr>\n",
       "    <tr>\n",
       "        <td style=\"padding-left: 1em; padding-right: 1em; text-align: center; vertical-align: top\">219987</td>\n",
       "        <td style=\"padding-left: 1em; padding-right: 1em; text-align: center; vertical-align: top\">0</td>\n",
       "        <td style=\"padding-left: 1em; padding-right: 1em; text-align: center; vertical-align: top\">15.0</td>\n",
       "        <td style=\"padding-left: 1em; padding-right: 1em; text-align: center; vertical-align: top\">0.636195832005</td>\n",
       "        <td style=\"padding-left: 1em; padding-right: 1em; text-align: center; vertical-align: top\">0.466332334617</td>\n",
       "        <td style=\"padding-left: 1em; padding-right: 1em; text-align: center; vertical-align: top\">0.6972135955</td>\n",
       "        <td style=\"padding-left: 1em; padding-right: 1em; text-align: center; vertical-align: top\">0.0845154254729</td>\n",
       "    </tr>\n",
       "    <tr>\n",
       "        <td style=\"padding-left: 1em; padding-right: 1em; text-align: center; vertical-align: top\">Fake57739</td>\n",
       "        <td style=\"padding-left: 1em; padding-right: 1em; text-align: center; vertical-align: top\">0</td>\n",
       "        <td style=\"padding-left: 1em; padding-right: 1em; text-align: center; vertical-align: top\">34.0</td>\n",
       "        <td style=\"padding-left: 1em; padding-right: 1em; text-align: center; vertical-align: top\">1.1889822365</td>\n",
       "        <td style=\"padding-left: 1em; padding-right: 1em; text-align: center; vertical-align: top\">0.365758931801</td>\n",
       "        <td style=\"padding-left: 1em; padding-right: 1em; text-align: center; vertical-align: top\">1.16903085095</td>\n",
       "        <td style=\"padding-left: 1em; padding-right: 1em; text-align: center; vertical-align: top\">0.188982236505</td>\n",
       "    </tr>\n",
       "</table>\n",
       "<table frame=\"box\" rules=\"cols\">\n",
       "    <tr>\n",
       "        <th style=\"padding-left: 1em; padding-right: 1em; text-align: center\">knn_weight4</th>\n",
       "        <th style=\"padding-left: 1em; padding-right: 1em; text-align: center\">knn_weight7</th>\n",
       "        <th style=\"padding-left: 1em; padding-right: 1em; text-align: center\">knn_weight6</th>\n",
       "        <th style=\"padding-left: 1em; padding-right: 1em; text-align: center\">knn_weight8</th>\n",
       "    </tr>\n",
       "    <tr>\n",
       "        <td style=\"padding-left: 1em; padding-right: 1em; text-align: center; vertical-align: top\">0.409803333819</td>\n",
       "        <td style=\"padding-left: 1em; padding-right: 1em; text-align: center; vertical-align: top\">0.0353996162702</td>\n",
       "        <td style=\"padding-left: 1em; padding-right: 1em; text-align: center; vertical-align: top\">0.0455960752588</td>\n",
       "        <td style=\"padding-left: 1em; padding-right: 1em; text-align: center; vertical-align: top\">0.0367359179185</td>\n",
       "    </tr>\n",
       "    <tr>\n",
       "        <td style=\"padding-left: 1em; padding-right: 1em; text-align: center; vertical-align: top\">0.377123616633</td>\n",
       "        <td style=\"padding-left: 1em; padding-right: 1em; text-align: center; vertical-align: top\">0.0324442842262</td>\n",
       "        <td style=\"padding-left: 1em; padding-right: 1em; text-align: center; vertical-align: top\">0.235702260396</td>\n",
       "        <td style=\"padding-left: 1em; padding-right: 1em; text-align: center; vertical-align: top\">0.0333333333333</td>\n",
       "    </tr>\n",
       "    <tr>\n",
       "        <td style=\"padding-left: 1em; padding-right: 1em; text-align: center; vertical-align: top\">0.546874024342</td>\n",
       "        <td style=\"padding-left: 1em; padding-right: 1em; text-align: center; vertical-align: top\">0.0778498944162</td>\n",
       "        <td style=\"padding-left: 1em; padding-right: 1em; text-align: center; vertical-align: top\">0.102062072616</td>\n",
       "        <td style=\"padding-left: 1em; padding-right: 1em; text-align: center; vertical-align: top\">0.07453559925</td>\n",
       "    </tr>\n",
       "    <tr>\n",
       "        <td style=\"padding-left: 1em; padding-right: 1em; text-align: center; vertical-align: top\">0.359065707854</td>\n",
       "        <td style=\"padding-left: 1em; padding-right: 1em; text-align: center; vertical-align: top\">0.0426401432711</td>\n",
       "        <td style=\"padding-left: 1em; padding-right: 1em; text-align: center; vertical-align: top\">0.0343807082086</td>\n",
       "        <td style=\"padding-left: 1em; padding-right: 1em; text-align: center; vertical-align: top\">0.0310985206786</td>\n",
       "    </tr>\n",
       "    <tr>\n",
       "        <td style=\"padding-left: 1em; padding-right: 1em; text-align: center; vertical-align: top\">0.377123616633</td>\n",
       "        <td style=\"padding-left: 1em; padding-right: 1em; text-align: center; vertical-align: top\">0.0408248290464</td>\n",
       "        <td style=\"padding-left: 1em; padding-right: 1em; text-align: center; vertical-align: top\">0.0333333333333</td>\n",
       "        <td style=\"padding-left: 1em; padding-right: 1em; text-align: center; vertical-align: top\">0.0333333333333</td>\n",
       "    </tr>\n",
       "    <tr>\n",
       "        <td style=\"padding-left: 1em; padding-right: 1em; text-align: center; vertical-align: top\">0.0619171033126</td>\n",
       "        <td style=\"padding-left: 1em; padding-right: 1em; text-align: center; vertical-align: top\">0.000535364432843</td>\n",
       "        <td style=\"padding-left: 1em; padding-right: 1em; text-align: center; vertical-align: top\">0.00174527777652</td>\n",
       "        <td style=\"padding-left: 1em; padding-right: 1em; text-align: center; vertical-align: top\">0.000452465528247</td>\n",
       "    </tr>\n",
       "    <tr>\n",
       "        <td style=\"padding-left: 1em; padding-right: 1em; text-align: center; vertical-align: top\">0.33984854784</td>\n",
       "        <td style=\"padding-left: 1em; padding-right: 1em; text-align: center; vertical-align: top\">0.0187317162316</td>\n",
       "        <td style=\"padding-left: 1em; padding-right: 1em; text-align: center; vertical-align: top\">0.0209426954146</td>\n",
       "        <td style=\"padding-left: 1em; padding-right: 1em; text-align: center; vertical-align: top\">0.0210818510678</td>\n",
       "    </tr>\n",
       "    <tr>\n",
       "        <td style=\"padding-left: 1em; padding-right: 1em; text-align: center; vertical-align: top\">0.178438678748</td>\n",
       "        <td style=\"padding-left: 1em; padding-right: 1em; text-align: center; vertical-align: top\">0.0092747779152</td>\n",
       "        <td style=\"padding-left: 1em; padding-right: 1em; text-align: center; vertical-align: top\">0.0159353697204</td>\n",
       "        <td style=\"padding-left: 1em; padding-right: 1em; text-align: center; vertical-align: top\">0.0077505408613</td>\n",
       "    </tr>\n",
       "    <tr>\n",
       "        <td style=\"padding-left: 1em; padding-right: 1em; text-align: center; vertical-align: top\">0.527350098113</td>\n",
       "        <td style=\"padding-left: 1em; padding-right: 1em; text-align: center; vertical-align: top\">0.0524142418361</td>\n",
       "        <td style=\"padding-left: 1em; padding-right: 1em; text-align: center; vertical-align: top\">0.111803398875</td>\n",
       "        <td style=\"padding-left: 1em; padding-right: 1em; text-align: center; vertical-align: top\">0.0693375245282</td>\n",
       "    </tr>\n",
       "    <tr>\n",
       "        <td style=\"padding-left: 1em; padding-right: 1em; text-align: center; vertical-align: top\">0.345807546242</td>\n",
       "        <td style=\"padding-left: 1em; padding-right: 1em; text-align: center; vertical-align: top\">0.0334076552391</td>\n",
       "        <td style=\"padding-left: 1em; padding-right: 1em; text-align: center; vertical-align: top\">0.169030850946</td>\n",
       "        <td style=\"padding-left: 1em; padding-right: 1em; text-align: center; vertical-align: top\">0.0298807152334</td>\n",
       "    </tr>\n",
       "</table>\n",
       "[? rows x 23 columns]<br/>Note: Only the head of the SFrame is printed. This SFrame is lazily evaluated.<br/>You can use sf.materialize() to force materialization.\n",
       "</div>"
      ],
      "text/plain": [
       "Columns:\n",
       "\tout_degree_v\tfloat\n",
       "\tout_common_friends\tint\n",
       "\tbi_common_friends\tint\n",
       "\tpreferential_attachment_score\tfloat\n",
       "\tis_opposite_direction_friends\tstr\n",
       "\tjaccards_coefficient\tfloat\n",
       "\tdst\tint\n",
       "\ttotal_friends\tfloat\n",
       "\tnumber_of_transitive_friends\tint\n",
       "\tin_degree_v\tfloat\n",
       "\tin_degree_u\tfloat\n",
       "\tedge_label\tstr\n",
       "\tsrc\tstr\n",
       "\tin_common_friends\tint\n",
       "\tout_degree_u\tfloat\n",
       "\tknn_weight1\tfloat\n",
       "\tknn_weight3\tfloat\n",
       "\tknn_weight2\tfloat\n",
       "\tknn_weight5\tfloat\n",
       "\tknn_weight4\tfloat\n",
       "\tknn_weight7\tfloat\n",
       "\tknn_weight6\tfloat\n",
       "\tknn_weight8\tfloat\n",
       "\n",
       "Rows: Unknown\n",
       "\n",
       "Data:\n",
       "+--------------+--------------------+-------------------+-------------------------------+\n",
       "| out_degree_v | out_common_friends | bi_common_friends | preferential_attachment_score |\n",
       "+--------------+--------------------+-------------------+-------------------------------+\n",
       "|     56.0     |         7          |         5         |             672.0             |\n",
       "|     49.0     |         0          |         0         |             833.0             |\n",
       "|     14.0     |         1          |         0         |             154.0             |\n",
       "|     21.0     |         1          |         0         |             966.0             |\n",
       "|     49.0     |         2          |         1         |             833.0             |\n",
       "|   13955.0    |        207         |         13        |           4870295.0           |\n",
       "|    149.0     |         0          |         0         |             2086.0            |\n",
       "|     92.0     |         5          |         0         |            16376.0            |\n",
       "|     12.0     |         0          |         0         |             180.0             |\n",
       "|     31.0     |         0          |         0         |             1054.0            |\n",
       "+--------------+--------------------+-------------------+-------------------------------+\n",
       "+-------------------------------+----------------------+--------+---------------+\n",
       "| is_opposite_direction_friends | jaccards_coefficient |  dst   | total_friends |\n",
       "+-------------------------------+----------------------+--------+---------------+\n",
       "|             False             |    0.114754098361    | 49092  |      61.0     |\n",
       "|             False             |         0.0          | 170032 |      66.0     |\n",
       "|             False             |   0.0416666666667    | 321695 |      24.0     |\n",
       "|             False             |   0.0151515151515    | 76869  |      66.0     |\n",
       "|             False             |       0.03125        |  9299  |      64.0     |\n",
       "|             False             |   0.0146839753139    |  5383  |    14097.0    |\n",
       "|             False             |         0.0          | 485942 |     163.0     |\n",
       "|             False             |   0.0188679245283    | 62184  |     265.0     |\n",
       "|             False             |         0.0          | 10296  |      27.0     |\n",
       "|             False             |         0.0          | 14664  |      65.0     |\n",
       "+-------------------------------+----------------------+--------+---------------+\n",
       "+------------------------------+-------------+-------------+------------+\n",
       "| number_of_transitive_friends | in_degree_v | in_degree_u | edge_label |\n",
       "+------------------------------+-------------+-------------+------------+\n",
       "|              5               |     36.0    |     13.0    |    Real    |\n",
       "|              0               |     0.0     |     18.0    |    Real    |\n",
       "|              0               |     7.0     |     10.0    |    Real    |\n",
       "|              0               |     17.0    |     24.0    |    Real    |\n",
       "|              2               |     49.0    |     11.0    |    Real    |\n",
       "|              13              |    937.0    |    249.0    |    Real    |\n",
       "|              0               |    151.0    |     18.0    |    Real    |\n",
       "|              0               |     21.0    |    124.0    |    Real    |\n",
       "|              0               |     4.0     |     27.0    |    Real    |\n",
       "|              0               |     0.0     |     27.0    |    Real    |\n",
       "+------------------------------+-------------+-------------+------------+\n",
       "+-----------+-------------------+--------------+-----------------+\n",
       "|    src    | in_common_friends | out_degree_u |   knn_weight1   |\n",
       "+-----------+-------------------+--------------+-----------------+\n",
       "|   75586   |         7         |     12.0     |  0.431660229218 |\n",
       "| Fake66819 |         0         |     17.0     |  1.22941573387  |\n",
       "|   321690  |         1         |     11.0     |  0.655064735171 |\n",
       "|   267624  |         1         |     46.0     |  0.435702260396 |\n",
       "|   48699   |         2         |     17.0     |  0.430096490832 |\n",
       "|    2547   |        207        |    349.0     | 0.0958967106258 |\n",
       "|   20381   |         0         |     14.0     |  0.310526444436 |\n",
       "|   379010  |         5         |    178.0     |  0.302643435456 |\n",
       "|   219987  |         0         |     15.0     |  0.636195832005 |\n",
       "| Fake57739 |         0         |     34.0     |   1.1889822365  |\n",
       "+-----------+-------------------+--------------+-----------------+\n",
       "+-----------------+-----------------+------------------+-----------------+-----+\n",
       "|   knn_weight3   |   knn_weight2   |   knn_weight5    |   knn_weight4   | ... |\n",
       "+-----------------+-----------------+------------------+-----------------+-----+\n",
       "|  0.399714477619 |  0.441749085418 | 0.0439374775164  |  0.409803333819 | ... |\n",
       "|  0.370837090108 |   1.2357022604  |  0.229415733871  |  0.377123616633 | ... |\n",
       "|  0.559710234325 |  0.642228525188 |  0.106600358178  |  0.546874024342 | ... |\n",
       "|  0.413200716356 |  0.381567251893 | 0.0471404520791  |  0.359065707854 | ... |\n",
       "|  0.430096490832 |  0.377123616633 | 0.0408248290464  |  0.377123616633 | ... |\n",
       "| 0.0717104081335 | 0.0861034058049 | 0.00206504051391 | 0.0619171033126 | ... |\n",
       "|  0.311065391963 |  0.339309600313 | 0.0186080731891  |  0.33984854784  | ... |\n",
       "|  0.193137888573 |  0.287944225631 | 0.0190692517849  |  0.178438678748 | ... |\n",
       "|  0.466332334617 |   0.6972135955  | 0.0845154254729  |  0.527350098113 | ... |\n",
       "|  0.365758931801 |  1.16903085095  |  0.188982236505  |  0.345807546242 | ... |\n",
       "+-----------------+-----------------+------------------+-----------------+-----+\n",
       "[? rows x 23 columns]\n",
       "Note: Only the head of the SFrame is printed. This SFrame is lazily evaluated.\n",
       "You can use sf.materialize() to force materialization."
      ]
     },
     "execution_count": 15,
     "metadata": {},
     "output_type": "execute_result"
    }
   ],
   "source": [
    "pos_data"
   ]
  },
  {
   "cell_type": "code",
   "execution_count": 89,
   "metadata": {},
   "outputs": [],
   "source": [
    "import numpy as np\n",
    "from collections import defaultdict\n",
    "import turicreate as tc\n",
    "\n",
    "\n",
    "def split_stratified_kfold(data, label='label', n_folds=10):\n",
    "    if label in data.column_names():\n",
    "        labels = data[label].unique()\n",
    "        labeled_data = [data[data[label] == l] for l in labels]\n",
    "        fold = [split_kfold(item, n_folds) for item in labeled_data]\n",
    "        for _ in range(n_folds):\n",
    "            train, test = tc.SFrame(), tc.SFrame()\n",
    "            for f in fold:\n",
    "                x_train, x_test = f.next()\n",
    "                train = train.append(x_train)\n",
    "                test = test.append(x_test)\n",
    "            yield train, test\n",
    "    else:\n",
    "        yield split_kfold(data, n_folds)\n",
    "\n",
    "\n",
    "def split_kfold(data, n_folds=10):\n",
    "    data['id'] = range(data.num_rows())\n",
    "    x = np.arange(len(data))\n",
    "    np.random.shuffle(x)\n",
    "    split = np.array_split(x, n_folds)\n",
    "    split_copy = np.copy(split)\n",
    "    for i, item in enumerate(split):\n",
    "        split_copy = np.delete(split_copy, i, 0)\n",
    "        yield data.filter_by(np.hstack(split_copy), 'id').remove_column('id'), data.filter_by(item, 'id').remove_column(\n",
    "            'id')\n",
    "        split_copy = np.insert(split_copy, i, item, axis=0)\n",
    "\n",
    "\n",
    "def get_classification_metrics(model, targets, predictions):\n",
    "    precision = tc.evaluation.precision(targets, predictions)\n",
    "    accuracy = tc.evaluation.accuracy(targets, predictions)\n",
    "    recall = tc.evaluation.recall(targets, predictions)\n",
    "    auc = tc.evaluation.auc(targets, predictions)\n",
    "    return {\"recall\": recall,\n",
    "            \"precision\": precision,\n",
    "            \"accuracy\": accuracy,\n",
    "            \"auc\": auc\n",
    "            }\n",
    "\n",
    "\n",
    "def cross_validate(datasets, model, model_parameters=None, evaluator=get_classification_metrics,  label='label'):\n",
    "    if not model_parameters:\n",
    "        model_parameters = {}\n",
    "    cross_val_metrics = defaultdict(list)\n",
    "    for train, test in datasets:\n",
    "        cross_val = model(train, **model_parameters)\n",
    "        prediction = cross_val.predict(test)\n",
    "        metrics = evaluator(cross_val, test[label], prediction)\n",
    "        for k, v in metrics.iteritems():\n",
    "            cross_val_metrics[k].append(v)\n",
    "    return {k: np.mean(v) for k,v in cross_val_metrics.iteritems()}"
   ]
  },
  {
   "cell_type": "code",
   "execution_count": 90,
   "metadata": {},
   "outputs": [
    {
     "name": "stdout",
     "output_type": "stream",
     "text": [
      "PROGRESS: Creating a validation set from 5 percent of training data. This may take a while.\n",
      "          You can set ``validation_set=None`` to disable validation tracking.\n",
      "\n"
     ]
    },
    {
     "data": {
      "text/html": [
       "<pre>WARNING: Detected extremely low variance for feature(s) 'veil-type' because all entries are nearly the same.\n",
       "Proceeding with model training using all features. If the model does not provide results of adequate quality, exclude the above mentioned feature(s) from the input dataset.</pre>"
      ],
      "text/plain": [
       "WARNING: Detected extremely low variance for feature(s) 'veil-type' because all entries are nearly the same.\n",
       "Proceeding with model training using all features. If the model does not provide results of adequate quality, exclude the above mentioned feature(s) from the input dataset."
      ]
     },
     "metadata": {},
     "output_type": "display_data"
    },
    {
     "data": {
      "text/html": [
       "<pre>Random forest classifier:</pre>"
      ],
      "text/plain": [
       "Random forest classifier:"
      ]
     },
     "metadata": {},
     "output_type": "display_data"
    },
    {
     "data": {
      "text/html": [
       "<pre>--------------------------------------------------------</pre>"
      ],
      "text/plain": [
       "--------------------------------------------------------"
      ]
     },
     "metadata": {},
     "output_type": "display_data"
    },
    {
     "data": {
      "text/html": [
       "<pre>Number of examples          : 6199</pre>"
      ],
      "text/plain": [
       "Number of examples          : 6199"
      ]
     },
     "metadata": {},
     "output_type": "display_data"
    },
    {
     "data": {
      "text/html": [
       "<pre>Number of classes           : 2</pre>"
      ],
      "text/plain": [
       "Number of classes           : 2"
      ]
     },
     "metadata": {},
     "output_type": "display_data"
    },
    {
     "data": {
      "text/html": [
       "<pre>Number of feature columns   : 22</pre>"
      ],
      "text/plain": [
       "Number of feature columns   : 22"
      ]
     },
     "metadata": {},
     "output_type": "display_data"
    },
    {
     "data": {
      "text/html": [
       "<pre>Number of unpacked features : 22</pre>"
      ],
      "text/plain": [
       "Number of unpacked features : 22"
      ]
     },
     "metadata": {},
     "output_type": "display_data"
    },
    {
     "data": {
      "text/html": [
       "<pre>+-----------+--------------+-------------------+---------------------+-------------------+---------------------+</pre>"
      ],
      "text/plain": [
       "+-----------+--------------+-------------------+---------------------+-------------------+---------------------+"
      ]
     },
     "metadata": {},
     "output_type": "display_data"
    },
    {
     "data": {
      "text/html": [
       "<pre>| Iteration | Elapsed Time | Training-accuracy | Validation-accuracy | Training-log_loss | Validation-log_loss |</pre>"
      ],
      "text/plain": [
       "| Iteration | Elapsed Time | Training-accuracy | Validation-accuracy | Training-log_loss | Validation-log_loss |"
      ]
     },
     "metadata": {},
     "output_type": "display_data"
    },
    {
     "data": {
      "text/html": [
       "<pre>+-----------+--------------+-------------------+---------------------+-------------------+---------------------+</pre>"
      ],
      "text/plain": [
       "+-----------+--------------+-------------------+---------------------+-------------------+---------------------+"
      ]
     },
     "metadata": {},
     "output_type": "display_data"
    },
    {
     "data": {
      "text/html": [
       "<pre>| 1         | 0.009182     | 0.998064          | 0.996656            | 0.134034          | 0.136484            |</pre>"
      ],
      "text/plain": [
       "| 1         | 0.009182     | 0.998064          | 0.996656            | 0.134034          | 0.136484            |"
      ]
     },
     "metadata": {},
     "output_type": "display_data"
    },
    {
     "data": {
      "text/html": [
       "<pre>| 2         | 0.019268     | 0.997096          | 0.996656            | 0.131516          | 0.130990            |</pre>"
      ],
      "text/plain": [
       "| 2         | 0.019268     | 0.997096          | 0.996656            | 0.131516          | 0.130990            |"
      ]
     },
     "metadata": {},
     "output_type": "display_data"
    },
    {
     "data": {
      "text/html": [
       "<pre>| 3         | 0.031425     | 0.999032          | 0.996656            | 0.132058          | 0.133458            |</pre>"
      ],
      "text/plain": [
       "| 3         | 0.031425     | 0.999032          | 0.996656            | 0.132058          | 0.133458            |"
      ]
     },
     "metadata": {},
     "output_type": "display_data"
    },
    {
     "data": {
      "text/html": [
       "<pre>| 4         | 0.038294     | 0.999193          | 0.996656            | 0.133360          | 0.133617            |</pre>"
      ],
      "text/plain": [
       "| 4         | 0.038294     | 0.999193          | 0.996656            | 0.133360          | 0.133617            |"
      ]
     },
     "metadata": {},
     "output_type": "display_data"
    },
    {
     "data": {
      "text/html": [
       "<pre>| 5         | 0.048426     | 0.999839          | 1.000000            | 0.133102          | 0.133054            |</pre>"
      ],
      "text/plain": [
       "| 5         | 0.048426     | 0.999839          | 1.000000            | 0.133102          | 0.133054            |"
      ]
     },
     "metadata": {},
     "output_type": "display_data"
    },
    {
     "data": {
      "text/html": [
       "<pre>| 6         | 0.058310     | 0.999677          | 1.000000            | 0.132326          | 0.132015            |</pre>"
      ],
      "text/plain": [
       "| 6         | 0.058310     | 0.999677          | 1.000000            | 0.132326          | 0.132015            |"
      ]
     },
     "metadata": {},
     "output_type": "display_data"
    },
    {
     "data": {
      "text/html": [
       "<pre>+-----------+--------------+-------------------+---------------------+-------------------+---------------------+</pre>"
      ],
      "text/plain": [
       "+-----------+--------------+-------------------+---------------------+-------------------+---------------------+"
      ]
     },
     "metadata": {},
     "output_type": "display_data"
    },
    {
     "name": "stdout",
     "output_type": "stream",
     "text": [
      "PROGRESS: Creating a validation set from 5 percent of training data. This may take a while.\n",
      "          You can set ``validation_set=None`` to disable validation tracking.\n",
      "\n"
     ]
    },
    {
     "data": {
      "text/html": [
       "<pre>WARNING: Detected extremely low variance for feature(s) 'veil-type' because all entries are nearly the same.\n",
       "Proceeding with model training using all features. If the model does not provide results of adequate quality, exclude the above mentioned feature(s) from the input dataset.</pre>"
      ],
      "text/plain": [
       "WARNING: Detected extremely low variance for feature(s) 'veil-type' because all entries are nearly the same.\n",
       "Proceeding with model training using all features. If the model does not provide results of adequate quality, exclude the above mentioned feature(s) from the input dataset."
      ]
     },
     "metadata": {},
     "output_type": "display_data"
    },
    {
     "data": {
      "text/html": [
       "<pre>Random forest classifier:</pre>"
      ],
      "text/plain": [
       "Random forest classifier:"
      ]
     },
     "metadata": {},
     "output_type": "display_data"
    },
    {
     "data": {
      "text/html": [
       "<pre>--------------------------------------------------------</pre>"
      ],
      "text/plain": [
       "--------------------------------------------------------"
      ]
     },
     "metadata": {},
     "output_type": "display_data"
    },
    {
     "data": {
      "text/html": [
       "<pre>Number of examples          : 7682</pre>"
      ],
      "text/plain": [
       "Number of examples          : 7682"
      ]
     },
     "metadata": {},
     "output_type": "display_data"
    },
    {
     "data": {
      "text/html": [
       "<pre>Number of classes           : 2</pre>"
      ],
      "text/plain": [
       "Number of classes           : 2"
      ]
     },
     "metadata": {},
     "output_type": "display_data"
    },
    {
     "data": {
      "text/html": [
       "<pre>Number of feature columns   : 22</pre>"
      ],
      "text/plain": [
       "Number of feature columns   : 22"
      ]
     },
     "metadata": {},
     "output_type": "display_data"
    },
    {
     "data": {
      "text/html": [
       "<pre>Number of unpacked features : 22</pre>"
      ],
      "text/plain": [
       "Number of unpacked features : 22"
      ]
     },
     "metadata": {},
     "output_type": "display_data"
    },
    {
     "data": {
      "text/html": [
       "<pre>+-----------+--------------+-------------------+---------------------+-------------------+---------------------+</pre>"
      ],
      "text/plain": [
       "+-----------+--------------+-------------------+---------------------+-------------------+---------------------+"
      ]
     },
     "metadata": {},
     "output_type": "display_data"
    },
    {
     "data": {
      "text/html": [
       "<pre>| Iteration | Elapsed Time | Training-accuracy | Validation-accuracy | Training-log_loss | Validation-log_loss |</pre>"
      ],
      "text/plain": [
       "| Iteration | Elapsed Time | Training-accuracy | Validation-accuracy | Training-log_loss | Validation-log_loss |"
      ]
     },
     "metadata": {},
     "output_type": "display_data"
    },
    {
     "data": {
      "text/html": [
       "<pre>+-----------+--------------+-------------------+---------------------+-------------------+---------------------+</pre>"
      ],
      "text/plain": [
       "+-----------+--------------+-------------------+---------------------+-------------------+---------------------+"
      ]
     },
     "metadata": {},
     "output_type": "display_data"
    },
    {
     "data": {
      "text/html": [
       "<pre>| 1         | 0.011934     | 0.999609          | 1.000000            | 0.129774          | 0.128823            |</pre>"
      ],
      "text/plain": [
       "| 1         | 0.011934     | 0.999609          | 1.000000            | 0.129774          | 0.128823            |"
      ]
     },
     "metadata": {},
     "output_type": "display_data"
    },
    {
     "data": {
      "text/html": [
       "<pre>| 2         | 0.027696     | 0.996746          | 0.995455            | 0.134067          | 0.133815            |</pre>"
      ],
      "text/plain": [
       "| 2         | 0.027696     | 0.996746          | 0.995455            | 0.134067          | 0.133815            |"
      ]
     },
     "metadata": {},
     "output_type": "display_data"
    },
    {
     "data": {
      "text/html": [
       "<pre>| 3         | 0.037725     | 0.999609          | 1.000000            | 0.133379          | 0.132692            |</pre>"
      ],
      "text/plain": [
       "| 3         | 0.037725     | 0.999609          | 1.000000            | 0.133379          | 0.132692            |"
      ]
     },
     "metadata": {},
     "output_type": "display_data"
    },
    {
     "data": {
      "text/html": [
       "<pre>| 4         | 0.050141     | 0.999609          | 1.000000            | 0.132090          | 0.131283            |</pre>"
      ],
      "text/plain": [
       "| 4         | 0.050141     | 0.999609          | 1.000000            | 0.132090          | 0.131283            |"
      ]
     },
     "metadata": {},
     "output_type": "display_data"
    },
    {
     "data": {
      "text/html": [
       "<pre>| 5         | 0.057616     | 0.999609          | 1.000000            | 0.131523          | 0.130566            |</pre>"
      ],
      "text/plain": [
       "| 5         | 0.057616     | 0.999609          | 1.000000            | 0.131523          | 0.130566            |"
      ]
     },
     "metadata": {},
     "output_type": "display_data"
    },
    {
     "data": {
      "text/html": [
       "<pre>| 6         | 0.067516     | 0.999609          | 1.000000            | 0.131165          | 0.130203            |</pre>"
      ],
      "text/plain": [
       "| 6         | 0.067516     | 0.999609          | 1.000000            | 0.131165          | 0.130203            |"
      ]
     },
     "metadata": {},
     "output_type": "display_data"
    },
    {
     "data": {
      "text/html": [
       "<pre>+-----------+--------------+-------------------+---------------------+-------------------+---------------------+</pre>"
      ],
      "text/plain": [
       "+-----------+--------------+-------------------+---------------------+-------------------+---------------------+"
      ]
     },
     "metadata": {},
     "output_type": "display_data"
    },
    {
     "name": "stdout",
     "output_type": "stream",
     "text": [
      "PROGRESS: Creating a validation set from 5 percent of training data. This may take a while.\n",
      "          You can set ``validation_set=None`` to disable validation tracking.\n",
      "\n"
     ]
    },
    {
     "data": {
      "text/html": [
       "<pre>WARNING: Detected extremely low variance for feature(s) 'veil-type' because all entries are nearly the same.\n",
       "Proceeding with model training using all features. If the model does not provide results of adequate quality, exclude the above mentioned feature(s) from the input dataset.</pre>"
      ],
      "text/plain": [
       "WARNING: Detected extremely low variance for feature(s) 'veil-type' because all entries are nearly the same.\n",
       "Proceeding with model training using all features. If the model does not provide results of adequate quality, exclude the above mentioned feature(s) from the input dataset."
      ]
     },
     "metadata": {},
     "output_type": "display_data"
    },
    {
     "data": {
      "text/html": [
       "<pre>Random forest classifier:</pre>"
      ],
      "text/plain": [
       "Random forest classifier:"
      ]
     },
     "metadata": {},
     "output_type": "display_data"
    },
    {
     "data": {
      "text/html": [
       "<pre>--------------------------------------------------------</pre>"
      ],
      "text/plain": [
       "--------------------------------------------------------"
      ]
     },
     "metadata": {},
     "output_type": "display_data"
    },
    {
     "data": {
      "text/html": [
       "<pre>Number of examples          : 7737</pre>"
      ],
      "text/plain": [
       "Number of examples          : 7737"
      ]
     },
     "metadata": {},
     "output_type": "display_data"
    },
    {
     "data": {
      "text/html": [
       "<pre>Number of classes           : 2</pre>"
      ],
      "text/plain": [
       "Number of classes           : 2"
      ]
     },
     "metadata": {},
     "output_type": "display_data"
    },
    {
     "data": {
      "text/html": [
       "<pre>Number of feature columns   : 22</pre>"
      ],
      "text/plain": [
       "Number of feature columns   : 22"
      ]
     },
     "metadata": {},
     "output_type": "display_data"
    },
    {
     "data": {
      "text/html": [
       "<pre>Number of unpacked features : 22</pre>"
      ],
      "text/plain": [
       "Number of unpacked features : 22"
      ]
     },
     "metadata": {},
     "output_type": "display_data"
    },
    {
     "data": {
      "text/html": [
       "<pre>+-----------+--------------+-------------------+---------------------+-------------------+---------------------+</pre>"
      ],
      "text/plain": [
       "+-----------+--------------+-------------------+---------------------+-------------------+---------------------+"
      ]
     },
     "metadata": {},
     "output_type": "display_data"
    },
    {
     "data": {
      "text/html": [
       "<pre>| Iteration | Elapsed Time | Training-accuracy | Validation-accuracy | Training-log_loss | Validation-log_loss |</pre>"
      ],
      "text/plain": [
       "| Iteration | Elapsed Time | Training-accuracy | Validation-accuracy | Training-log_loss | Validation-log_loss |"
      ]
     },
     "metadata": {},
     "output_type": "display_data"
    },
    {
     "data": {
      "text/html": [
       "<pre>+-----------+--------------+-------------------+---------------------+-------------------+---------------------+</pre>"
      ],
      "text/plain": [
       "+-----------+--------------+-------------------+---------------------+-------------------+---------------------+"
      ]
     },
     "metadata": {},
     "output_type": "display_data"
    },
    {
     "data": {
      "text/html": [
       "<pre>| 1         | 0.011514     | 0.992504          | 0.994805            | 0.145534          | 0.140364            |</pre>"
      ],
      "text/plain": [
       "| 1         | 0.011514     | 0.992504          | 0.994805            | 0.145534          | 0.140364            |"
      ]
     },
     "metadata": {},
     "output_type": "display_data"
    },
    {
     "data": {
      "text/html": [
       "<pre>| 2         | 0.026558     | 0.998449          | 1.000000            | 0.134952          | 0.132903            |</pre>"
      ],
      "text/plain": [
       "| 2         | 0.026558     | 0.998449          | 1.000000            | 0.134952          | 0.132903            |"
      ]
     },
     "metadata": {},
     "output_type": "display_data"
    },
    {
     "data": {
      "text/html": [
       "<pre>| 3         | 0.036408     | 0.998449          | 1.000000            | 0.133449          | 0.131168            |</pre>"
      ],
      "text/plain": [
       "| 3         | 0.036408     | 0.998449          | 1.000000            | 0.133449          | 0.131168            |"
      ]
     },
     "metadata": {},
     "output_type": "display_data"
    },
    {
     "data": {
      "text/html": [
       "<pre>| 4         | 0.050196     | 0.998449          | 1.000000            | 0.133889          | 0.131475            |</pre>"
      ],
      "text/plain": [
       "| 4         | 0.050196     | 0.998449          | 1.000000            | 0.133889          | 0.131475            |"
      ]
     },
     "metadata": {},
     "output_type": "display_data"
    },
    {
     "data": {
      "text/html": [
       "<pre>| 5         | 0.060616     | 0.998449          | 1.000000            | 0.135097          | 0.132908            |</pre>"
      ],
      "text/plain": [
       "| 5         | 0.060616     | 0.998449          | 1.000000            | 0.135097          | 0.132908            |"
      ]
     },
     "metadata": {},
     "output_type": "display_data"
    },
    {
     "data": {
      "text/html": [
       "<pre>| 6         | 0.070808     | 0.998449          | 1.000000            | 0.134742          | 0.132920            |</pre>"
      ],
      "text/plain": [
       "| 6         | 0.070808     | 0.998449          | 1.000000            | 0.134742          | 0.132920            |"
      ]
     },
     "metadata": {},
     "output_type": "display_data"
    },
    {
     "data": {
      "text/html": [
       "<pre>+-----------+--------------+-------------------+---------------------+-------------------+---------------------+</pre>"
      ],
      "text/plain": [
       "+-----------+--------------+-------------------+---------------------+-------------------+---------------------+"
      ]
     },
     "metadata": {},
     "output_type": "display_data"
    },
    {
     "name": "stdout",
     "output_type": "stream",
     "text": [
      "PROGRESS: Creating a validation set from 5 percent of training data. This may take a while.\n",
      "          You can set ``validation_set=None`` to disable validation tracking.\n",
      "\n"
     ]
    },
    {
     "data": {
      "text/html": [
       "<pre>WARNING: Detected extremely low variance for feature(s) 'veil-type' because all entries are nearly the same.\n",
       "Proceeding with model training using all features. If the model does not provide results of adequate quality, exclude the above mentioned feature(s) from the input dataset.</pre>"
      ],
      "text/plain": [
       "WARNING: Detected extremely low variance for feature(s) 'veil-type' because all entries are nearly the same.\n",
       "Proceeding with model training using all features. If the model does not provide results of adequate quality, exclude the above mentioned feature(s) from the input dataset."
      ]
     },
     "metadata": {},
     "output_type": "display_data"
    },
    {
     "data": {
      "text/html": [
       "<pre>Random forest classifier:</pre>"
      ],
      "text/plain": [
       "Random forest classifier:"
      ]
     },
     "metadata": {},
     "output_type": "display_data"
    },
    {
     "data": {
      "text/html": [
       "<pre>--------------------------------------------------------</pre>"
      ],
      "text/plain": [
       "--------------------------------------------------------"
      ]
     },
     "metadata": {},
     "output_type": "display_data"
    },
    {
     "data": {
      "text/html": [
       "<pre>Number of examples          : 7689</pre>"
      ],
      "text/plain": [
       "Number of examples          : 7689"
      ]
     },
     "metadata": {},
     "output_type": "display_data"
    },
    {
     "data": {
      "text/html": [
       "<pre>Number of classes           : 2</pre>"
      ],
      "text/plain": [
       "Number of classes           : 2"
      ]
     },
     "metadata": {},
     "output_type": "display_data"
    },
    {
     "data": {
      "text/html": [
       "<pre>Number of feature columns   : 22</pre>"
      ],
      "text/plain": [
       "Number of feature columns   : 22"
      ]
     },
     "metadata": {},
     "output_type": "display_data"
    },
    {
     "data": {
      "text/html": [
       "<pre>Number of unpacked features : 22</pre>"
      ],
      "text/plain": [
       "Number of unpacked features : 22"
      ]
     },
     "metadata": {},
     "output_type": "display_data"
    },
    {
     "data": {
      "text/html": [
       "<pre>+-----------+--------------+-------------------+---------------------+-------------------+---------------------+</pre>"
      ],
      "text/plain": [
       "+-----------+--------------+-------------------+---------------------+-------------------+---------------------+"
      ]
     },
     "metadata": {},
     "output_type": "display_data"
    },
    {
     "data": {
      "text/html": [
       "<pre>| Iteration | Elapsed Time | Training-accuracy | Validation-accuracy | Training-log_loss | Validation-log_loss |</pre>"
      ],
      "text/plain": [
       "| Iteration | Elapsed Time | Training-accuracy | Validation-accuracy | Training-log_loss | Validation-log_loss |"
      ]
     },
     "metadata": {},
     "output_type": "display_data"
    },
    {
     "data": {
      "text/html": [
       "<pre>+-----------+--------------+-------------------+---------------------+-------------------+---------------------+</pre>"
      ],
      "text/plain": [
       "+-----------+--------------+-------------------+---------------------+-------------------+---------------------+"
      ]
     },
     "metadata": {},
     "output_type": "display_data"
    },
    {
     "data": {
      "text/html": [
       "<pre>| 1         | 0.010250     | 0.998960          | 1.000000            | 0.130693          | 0.128952            |</pre>"
      ],
      "text/plain": [
       "| 1         | 0.010250     | 0.998960          | 1.000000            | 0.130693          | 0.128952            |"
      ]
     },
     "metadata": {},
     "output_type": "display_data"
    },
    {
     "data": {
      "text/html": [
       "<pre>| 2         | 0.026153     | 0.998960          | 1.000000            | 0.130353          | 0.128640            |</pre>"
      ],
      "text/plain": [
       "| 2         | 0.026153     | 0.998960          | 1.000000            | 0.130353          | 0.128640            |"
      ]
     },
     "metadata": {},
     "output_type": "display_data"
    },
    {
     "data": {
      "text/html": [
       "<pre>| 3         | 0.041362     | 0.998960          | 1.000000            | 0.130428          | 0.128761            |</pre>"
      ],
      "text/plain": [
       "| 3         | 0.041362     | 0.998960          | 1.000000            | 0.130428          | 0.128761            |"
      ]
     },
     "metadata": {},
     "output_type": "display_data"
    },
    {
     "data": {
      "text/html": [
       "<pre>| 4         | 0.055335     | 0.999090          | 1.000000            | 0.130320          | 0.128682            |</pre>"
      ],
      "text/plain": [
       "| 4         | 0.055335     | 0.999090          | 1.000000            | 0.130320          | 0.128682            |"
      ]
     },
     "metadata": {},
     "output_type": "display_data"
    },
    {
     "data": {
      "text/html": [
       "<pre>| 5         | 0.066811     | 0.999090          | 1.000000            | 0.130880          | 0.128996            |</pre>"
      ],
      "text/plain": [
       "| 5         | 0.066811     | 0.999090          | 1.000000            | 0.130880          | 0.128996            |"
      ]
     },
     "metadata": {},
     "output_type": "display_data"
    },
    {
     "data": {
      "text/html": [
       "<pre>| 6         | 0.080328     | 0.999090          | 1.000000            | 0.130603          | 0.128955            |</pre>"
      ],
      "text/plain": [
       "| 6         | 0.080328     | 0.999090          | 1.000000            | 0.130603          | 0.128955            |"
      ]
     },
     "metadata": {},
     "output_type": "display_data"
    },
    {
     "data": {
      "text/html": [
       "<pre>+-----------+--------------+-------------------+---------------------+-------------------+---------------------+</pre>"
      ],
      "text/plain": [
       "+-----------+--------------+-------------------+---------------------+-------------------+---------------------+"
      ]
     },
     "metadata": {},
     "output_type": "display_data"
    },
    {
     "name": "stdout",
     "output_type": "stream",
     "text": [
      "PROGRESS: Creating a validation set from 5 percent of training data. This may take a while.\n",
      "          You can set ``validation_set=None`` to disable validation tracking.\n",
      "\n"
     ]
    },
    {
     "data": {
      "text/html": [
       "<pre>WARNING: Detected extremely low variance for feature(s) 'veil-type' because all entries are nearly the same.\n",
       "Proceeding with model training using all features. If the model does not provide results of adequate quality, exclude the above mentioned feature(s) from the input dataset.</pre>"
      ],
      "text/plain": [
       "WARNING: Detected extremely low variance for feature(s) 'veil-type' because all entries are nearly the same.\n",
       "Proceeding with model training using all features. If the model does not provide results of adequate quality, exclude the above mentioned feature(s) from the input dataset."
      ]
     },
     "metadata": {},
     "output_type": "display_data"
    },
    {
     "data": {
      "text/html": [
       "<pre>Random forest classifier:</pre>"
      ],
      "text/plain": [
       "Random forest classifier:"
      ]
     },
     "metadata": {},
     "output_type": "display_data"
    },
    {
     "data": {
      "text/html": [
       "<pre>--------------------------------------------------------</pre>"
      ],
      "text/plain": [
       "--------------------------------------------------------"
      ]
     },
     "metadata": {},
     "output_type": "display_data"
    },
    {
     "data": {
      "text/html": [
       "<pre>Number of examples          : 7713</pre>"
      ],
      "text/plain": [
       "Number of examples          : 7713"
      ]
     },
     "metadata": {},
     "output_type": "display_data"
    },
    {
     "data": {
      "text/html": [
       "<pre>Number of classes           : 2</pre>"
      ],
      "text/plain": [
       "Number of classes           : 2"
      ]
     },
     "metadata": {},
     "output_type": "display_data"
    },
    {
     "data": {
      "text/html": [
       "<pre>Number of feature columns   : 22</pre>"
      ],
      "text/plain": [
       "Number of feature columns   : 22"
      ]
     },
     "metadata": {},
     "output_type": "display_data"
    },
    {
     "data": {
      "text/html": [
       "<pre>Number of unpacked features : 22</pre>"
      ],
      "text/plain": [
       "Number of unpacked features : 22"
      ]
     },
     "metadata": {},
     "output_type": "display_data"
    },
    {
     "data": {
      "text/html": [
       "<pre>+-----------+--------------+-------------------+---------------------+-------------------+---------------------+</pre>"
      ],
      "text/plain": [
       "+-----------+--------------+-------------------+---------------------+-------------------+---------------------+"
      ]
     },
     "metadata": {},
     "output_type": "display_data"
    },
    {
     "data": {
      "text/html": [
       "<pre>| Iteration | Elapsed Time | Training-accuracy | Validation-accuracy | Training-log_loss | Validation-log_loss |</pre>"
      ],
      "text/plain": [
       "| Iteration | Elapsed Time | Training-accuracy | Validation-accuracy | Training-log_loss | Validation-log_loss |"
      ]
     },
     "metadata": {},
     "output_type": "display_data"
    },
    {
     "data": {
      "text/html": [
       "<pre>+-----------+--------------+-------------------+---------------------+-------------------+---------------------+</pre>"
      ],
      "text/plain": [
       "+-----------+--------------+-------------------+---------------------+-------------------+---------------------+"
      ]
     },
     "metadata": {},
     "output_type": "display_data"
    },
    {
     "data": {
      "text/html": [
       "<pre>| 1         | 0.018066     | 0.999222          | 1.000000            | 0.130550          | 0.128712            |</pre>"
      ],
      "text/plain": [
       "| 1         | 0.018066     | 0.999222          | 1.000000            | 0.130550          | 0.128712            |"
      ]
     },
     "metadata": {},
     "output_type": "display_data"
    },
    {
     "data": {
      "text/html": [
       "<pre>| 2         | 0.034381     | 0.997148          | 1.000000            | 0.133299          | 0.129756            |</pre>"
      ],
      "text/plain": [
       "| 2         | 0.034381     | 0.997148          | 1.000000            | 0.133299          | 0.129756            |"
      ]
     },
     "metadata": {},
     "output_type": "display_data"
    },
    {
     "data": {
      "text/html": [
       "<pre>| 3         | 0.046527     | 0.999481          | 1.000000            | 0.131686          | 0.129325            |</pre>"
      ],
      "text/plain": [
       "| 3         | 0.046527     | 0.999481          | 1.000000            | 0.131686          | 0.129325            |"
      ]
     },
     "metadata": {},
     "output_type": "display_data"
    },
    {
     "data": {
      "text/html": [
       "<pre>| 4         | 0.057045     | 0.999092          | 1.000000            | 0.131525          | 0.129223            |</pre>"
      ],
      "text/plain": [
       "| 4         | 0.057045     | 0.999092          | 1.000000            | 0.131525          | 0.129223            |"
      ]
     },
     "metadata": {},
     "output_type": "display_data"
    },
    {
     "data": {
      "text/html": [
       "<pre>| 5         | 0.068852     | 0.999092          | 1.000000            | 0.130997          | 0.129029            |</pre>"
      ],
      "text/plain": [
       "| 5         | 0.068852     | 0.999092          | 1.000000            | 0.130997          | 0.129029            |"
      ]
     },
     "metadata": {},
     "output_type": "display_data"
    },
    {
     "data": {
      "text/html": [
       "<pre>| 6         | 0.081083     | 0.999481          | 1.000000            | 0.131978          | 0.129477            |</pre>"
      ],
      "text/plain": [
       "| 6         | 0.081083     | 0.999481          | 1.000000            | 0.131978          | 0.129477            |"
      ]
     },
     "metadata": {},
     "output_type": "display_data"
    },
    {
     "data": {
      "text/html": [
       "<pre>+-----------+--------------+-------------------+---------------------+-------------------+---------------------+</pre>"
      ],
      "text/plain": [
       "+-----------+--------------+-------------------+---------------------+-------------------+---------------------+"
      ]
     },
     "metadata": {},
     "output_type": "display_data"
    },
    {
     "data": {
      "text/plain": [
       "{'accuracy': 0.99938461519817923,\n",
       " 'auc': 0.99872351239346313,\n",
       " 'precision': 0.99881432257846892,\n",
       " 'recall': 1.0}"
      ]
     },
     "execution_count": 90,
     "metadata": {},
     "output_type": "execute_result"
    }
   ],
   "source": [
    "#url = 'https://static.turi.com/datasets/xgboost/mushroom.csv'\n",
    "#sf = tc.SFrame.read_csv(url)\n",
    "#sf['label'] = (sf['label'] == 'p')\n",
    "params = {'target': 'label'}\n",
    "folds = split_stratified_kfold(sf,'label', 5)\n",
    "cross_validate(folds, tc.random_forest_classifier.create, params, label='label')"
   ]
  },
  {
   "cell_type": "code",
   "execution_count": 100,
   "metadata": {},
   "outputs": [
    {
     "data": {
      "text/plain": [
       "[(array([[1],\n",
       "         [2],\n",
       "         [3],\n",
       "         [4],\n",
       "         [5],\n",
       "         [6],\n",
       "         [7],\n",
       "         [8],\n",
       "         [9]]), array([[0]])), (array([[0],\n",
       "         [1],\n",
       "         [2],\n",
       "         [3],\n",
       "         [4],\n",
       "         [5],\n",
       "         [6],\n",
       "         [8],\n",
       "         [9]]), array([[7]])), (array([[0],\n",
       "         [1],\n",
       "         [2],\n",
       "         [3],\n",
       "         [4],\n",
       "         [6],\n",
       "         [7],\n",
       "         [8],\n",
       "         [9]]), array([[5]])), (array([[0],\n",
       "         [1],\n",
       "         [2],\n",
       "         [4],\n",
       "         [5],\n",
       "         [6],\n",
       "         [7],\n",
       "         [8],\n",
       "         [9]]), array([[3]])), (array([[0],\n",
       "         [2],\n",
       "         [3],\n",
       "         [4],\n",
       "         [5],\n",
       "         [6],\n",
       "         [7],\n",
       "         [8],\n",
       "         [9]]), array([[1]])), (array([[0],\n",
       "         [1],\n",
       "         [2],\n",
       "         [3],\n",
       "         [4],\n",
       "         [5],\n",
       "         [6],\n",
       "         [7],\n",
       "         [9]]), array([[8]])), (array([[0],\n",
       "         [1],\n",
       "         [2],\n",
       "         [3],\n",
       "         [4],\n",
       "         [5],\n",
       "         [6],\n",
       "         [7],\n",
       "         [8]]), array([[9]])), (array([[0],\n",
       "         [1],\n",
       "         [2],\n",
       "         [3],\n",
       "         [4],\n",
       "         [5],\n",
       "         [7],\n",
       "         [8],\n",
       "         [9]]), array([[6]])), (array([[0],\n",
       "         [1],\n",
       "         [3],\n",
       "         [4],\n",
       "         [5],\n",
       "         [6],\n",
       "         [7],\n",
       "         [8],\n",
       "         [9]]), array([[2]])), (array([[0],\n",
       "         [1],\n",
       "         [2],\n",
       "         [3],\n",
       "         [5],\n",
       "         [6],\n",
       "         [7],\n",
       "         [8],\n",
       "         [9]]), array([[4]]))]"
      ]
     },
     "execution_count": 100,
     "metadata": {},
     "output_type": "execute_result"
    }
   ],
   "source": [
    "[(item[0].to_numpy(), item[1].to_numpy()) for item in split_kfold(tc.SFrame(range(10)), 10)]"
   ]
  },
  {
   "cell_type": "code",
   "execution_count": 134,
   "metadata": {},
   "outputs": [],
   "source": [
    "import numpy as np\n",
    "import turicreate as tc\n",
    "from collections import defaultdict\n",
    "\n",
    "\n",
    "def shuffle_sframe(sf):\n",
    "    sf[\"shuffle_col\"] = tc.SArray.random_integers(sf.num_rows())\n",
    "    return sf.sort(\"shuffle_col\").remove_column(\"shuffle_col\")\n",
    "\n",
    "\n",
    "def kfold_sections(data, n_folds):\n",
    "    \"\"\"\n",
    "    Based on scikit implementation.\n",
    "    \"\"\"\n",
    "    Neach_section, extras = divmod(len(data), n_folds)\n",
    "    section_sizes = ([0] +\n",
    "                     extras * [Neach_section + 1] +\n",
    "                     (n_folds - extras) * [Neach_section])\n",
    "    div_points = np.array(section_sizes).cumsum()\n",
    "    for i in range(n_folds):\n",
    "        st = div_points[i]\n",
    "        end = div_points[i + 1]\n",
    "        yield st, end\n",
    "\n",
    "\n",
    "def split_kfold(data, n_folds=10):\n",
    "    for st, end in kfold_sections(data, n_folds):\n",
    "        idx = np.zeros(len(data))\n",
    "        idx[st:end] = 1\n",
    "        yield data[tc.SArray(1 - idx)], data[tc.SArray(idx)]\n",
    "\n",
    "\n",
    "def split_stratified_kfold(data, label='label', n_folds=10):\n",
    "    if label in data.column_names():\n",
    "        labels = data[label].unique()\n",
    "        labeled_data = [data[data[label] == l] for l in labels]\n",
    "        fold = [split_kfold(item, n_folds) for item in labeled_data]\n",
    "        for _ in range(n_folds):\n",
    "            train, test = tc.SFrame(), tc.SFrame()\n",
    "            for f in fold:\n",
    "                x_train, x_test = f.next()\n",
    "                train = train.append(x_train)\n",
    "                test = test.append(x_test)\n",
    "            yield train, test\n",
    "    else:\n",
    "        yield split_kfold(data, n_folds)\n",
    "\n",
    "\n",
    "def cross_validate(datasets, model_factory, model_parameters=None, evaluator=get_classification_metrics, label='label'):\n",
    "    if not model_parameters:\n",
    "        model_parameters = {}\n",
    "    cross_val_metrics = defaultdict(list)\n",
    "    for train, test in datasets:\n",
    "        model = model_factory(train, **model_parameters)\n",
    "        prediction = model.predict(test)\n",
    "        metrics = evaluator(model, test[label], prediction)\n",
    "        for k, v in metrics.iteritems():\n",
    "            cross_val_metrics[k].append(v)\n",
    "    return {k: np.mean(v) for k, v in cross_val_metrics.iteritems()}\n"
   ]
  },
  {
   "cell_type": "code",
   "execution_count": 135,
   "metadata": {},
   "outputs": [
    {
     "data": {
      "text/html": [
       "<pre>Finished parsing file https://static.turi.com/datasets/xgboost/mushroom.csv</pre>"
      ],
      "text/plain": [
       "Finished parsing file https://static.turi.com/datasets/xgboost/mushroom.csv"
      ]
     },
     "metadata": {},
     "output_type": "display_data"
    },
    {
     "data": {
      "text/html": [
       "<pre>Parsing completed. Parsed 100 lines in 0.174891 secs.</pre>"
      ],
      "text/plain": [
       "Parsing completed. Parsed 100 lines in 0.174891 secs."
      ]
     },
     "metadata": {},
     "output_type": "display_data"
    },
    {
     "name": "stdout",
     "output_type": "stream",
     "text": [
      "------------------------------------------------------\n",
      "Inferred types from first 100 line(s) of file as \n",
      "column_type_hints=[str,str,str,str,str,str,str,str,str,str,str,str,str,str,str,str,str,str,str,str,str,str,str]\n",
      "If parsing fails due to incorrect types, you can correct\n",
      "the inferred type list above and pass it to read_csv in\n",
      "the column_type_hints argument\n",
      "------------------------------------------------------\n"
     ]
    },
    {
     "data": {
      "text/html": [
       "<pre>Finished parsing file https://static.turi.com/datasets/xgboost/mushroom.csv</pre>"
      ],
      "text/plain": [
       "Finished parsing file https://static.turi.com/datasets/xgboost/mushroom.csv"
      ]
     },
     "metadata": {},
     "output_type": "display_data"
    },
    {
     "data": {
      "text/html": [
       "<pre>Parsing completed. Parsed 8124 lines in 0.112104 secs.</pre>"
      ],
      "text/plain": [
       "Parsing completed. Parsed 8124 lines in 0.112104 secs."
      ]
     },
     "metadata": {},
     "output_type": "display_data"
    },
    {
     "name": "stdout",
     "output_type": "stream",
     "text": [
      "PROGRESS: Creating a validation set from 5 percent of training data. This may take a while.\n",
      "          You can set ``validation_set=None`` to disable validation tracking.\n",
      "\n"
     ]
    },
    {
     "data": {
      "text/html": [
       "<pre>WARNING: Detected extremely low variance for feature(s) 'veil-type' because all entries are nearly the same.\n",
       "Proceeding with model training using all features. If the model does not provide results of adequate quality, exclude the above mentioned feature(s) from the input dataset.</pre>"
      ],
      "text/plain": [
       "WARNING: Detected extremely low variance for feature(s) 'veil-type' because all entries are nearly the same.\n",
       "Proceeding with model training using all features. If the model does not provide results of adequate quality, exclude the above mentioned feature(s) from the input dataset."
      ]
     },
     "metadata": {},
     "output_type": "display_data"
    },
    {
     "data": {
      "text/html": [
       "<pre>Random forest classifier:</pre>"
      ],
      "text/plain": [
       "Random forest classifier:"
      ]
     },
     "metadata": {},
     "output_type": "display_data"
    },
    {
     "data": {
      "text/html": [
       "<pre>--------------------------------------------------------</pre>"
      ],
      "text/plain": [
       "--------------------------------------------------------"
      ]
     },
     "metadata": {},
     "output_type": "display_data"
    },
    {
     "data": {
      "text/html": [
       "<pre>Number of examples          : 6176</pre>"
      ],
      "text/plain": [
       "Number of examples          : 6176"
      ]
     },
     "metadata": {},
     "output_type": "display_data"
    },
    {
     "data": {
      "text/html": [
       "<pre>Number of classes           : 2</pre>"
      ],
      "text/plain": [
       "Number of classes           : 2"
      ]
     },
     "metadata": {},
     "output_type": "display_data"
    },
    {
     "data": {
      "text/html": [
       "<pre>Number of feature columns   : 22</pre>"
      ],
      "text/plain": [
       "Number of feature columns   : 22"
      ]
     },
     "metadata": {},
     "output_type": "display_data"
    },
    {
     "data": {
      "text/html": [
       "<pre>Number of unpacked features : 22</pre>"
      ],
      "text/plain": [
       "Number of unpacked features : 22"
      ]
     },
     "metadata": {},
     "output_type": "display_data"
    },
    {
     "data": {
      "text/html": [
       "<pre>+-----------+--------------+-------------------+---------------------+-------------------+---------------------+</pre>"
      ],
      "text/plain": [
       "+-----------+--------------+-------------------+---------------------+-------------------+---------------------+"
      ]
     },
     "metadata": {},
     "output_type": "display_data"
    },
    {
     "data": {
      "text/html": [
       "<pre>| Iteration | Elapsed Time | Training-accuracy | Validation-accuracy | Training-log_loss | Validation-log_loss |</pre>"
      ],
      "text/plain": [
       "| Iteration | Elapsed Time | Training-accuracy | Validation-accuracy | Training-log_loss | Validation-log_loss |"
      ]
     },
     "metadata": {},
     "output_type": "display_data"
    },
    {
     "data": {
      "text/html": [
       "<pre>+-----------+--------------+-------------------+---------------------+-------------------+---------------------+</pre>"
      ],
      "text/plain": [
       "+-----------+--------------+-------------------+---------------------+-------------------+---------------------+"
      ]
     },
     "metadata": {},
     "output_type": "display_data"
    },
    {
     "data": {
      "text/html": [
       "<pre>| 1         | 0.012380     | 0.999676          | 1.000000            | 0.129529          | 0.129135            |</pre>"
      ],
      "text/plain": [
       "| 1         | 0.012380     | 0.999676          | 1.000000            | 0.129529          | 0.129135            |"
      ]
     },
     "metadata": {},
     "output_type": "display_data"
    },
    {
     "data": {
      "text/html": [
       "<pre>| 2         | 0.024701     | 0.999676          | 1.000000            | 0.129773          | 0.129596            |</pre>"
      ],
      "text/plain": [
       "| 2         | 0.024701     | 0.999676          | 1.000000            | 0.129773          | 0.129596            |"
      ]
     },
     "metadata": {},
     "output_type": "display_data"
    },
    {
     "data": {
      "text/html": [
       "<pre>| 3         | 0.053304     | 0.999676          | 1.000000            | 0.129792          | 0.129516            |</pre>"
      ],
      "text/plain": [
       "| 3         | 0.053304     | 0.999676          | 1.000000            | 0.129792          | 0.129516            |"
      ]
     },
     "metadata": {},
     "output_type": "display_data"
    },
    {
     "data": {
      "text/html": [
       "<pre>| 4         | 0.071482     | 0.999676          | 1.000000            | 0.130717          | 0.130420            |</pre>"
      ],
      "text/plain": [
       "| 4         | 0.071482     | 0.999676          | 1.000000            | 0.130717          | 0.130420            |"
      ]
     },
     "metadata": {},
     "output_type": "display_data"
    },
    {
     "data": {
      "text/html": [
       "<pre>| 5         | 0.085064     | 0.999676          | 1.000000            | 0.130800          | 0.130822            |</pre>"
      ],
      "text/plain": [
       "| 5         | 0.085064     | 0.999676          | 1.000000            | 0.130800          | 0.130822            |"
      ]
     },
     "metadata": {},
     "output_type": "display_data"
    },
    {
     "data": {
      "text/html": [
       "<pre>| 6         | 0.117679     | 0.999676          | 1.000000            | 0.130601          | 0.130527            |</pre>"
      ],
      "text/plain": [
       "| 6         | 0.117679     | 0.999676          | 1.000000            | 0.130601          | 0.130527            |"
      ]
     },
     "metadata": {},
     "output_type": "display_data"
    },
    {
     "data": {
      "text/html": [
       "<pre>+-----------+--------------+-------------------+---------------------+-------------------+---------------------+</pre>"
      ],
      "text/plain": [
       "+-----------+--------------+-------------------+---------------------+-------------------+---------------------+"
      ]
     },
     "metadata": {},
     "output_type": "display_data"
    },
    {
     "name": "stdout",
     "output_type": "stream",
     "text": [
      "PROGRESS: Creating a validation set from 5 percent of training data. This may take a while.\n",
      "          You can set ``validation_set=None`` to disable validation tracking.\n",
      "\n"
     ]
    },
    {
     "data": {
      "text/html": [
       "<pre>WARNING: Detected extremely low variance for feature(s) 'veil-type' because all entries are nearly the same.\n",
       "Proceeding with model training using all features. If the model does not provide results of adequate quality, exclude the above mentioned feature(s) from the input dataset.</pre>"
      ],
      "text/plain": [
       "WARNING: Detected extremely low variance for feature(s) 'veil-type' because all entries are nearly the same.\n",
       "Proceeding with model training using all features. If the model does not provide results of adequate quality, exclude the above mentioned feature(s) from the input dataset."
      ]
     },
     "metadata": {},
     "output_type": "display_data"
    },
    {
     "data": {
      "text/html": [
       "<pre>Random forest classifier:</pre>"
      ],
      "text/plain": [
       "Random forest classifier:"
      ]
     },
     "metadata": {},
     "output_type": "display_data"
    },
    {
     "data": {
      "text/html": [
       "<pre>--------------------------------------------------------</pre>"
      ],
      "text/plain": [
       "--------------------------------------------------------"
      ]
     },
     "metadata": {},
     "output_type": "display_data"
    },
    {
     "data": {
      "text/html": [
       "<pre>Number of examples          : 6165</pre>"
      ],
      "text/plain": [
       "Number of examples          : 6165"
      ]
     },
     "metadata": {},
     "output_type": "display_data"
    },
    {
     "data": {
      "text/html": [
       "<pre>Number of classes           : 2</pre>"
      ],
      "text/plain": [
       "Number of classes           : 2"
      ]
     },
     "metadata": {},
     "output_type": "display_data"
    },
    {
     "data": {
      "text/html": [
       "<pre>Number of feature columns   : 22</pre>"
      ],
      "text/plain": [
       "Number of feature columns   : 22"
      ]
     },
     "metadata": {},
     "output_type": "display_data"
    },
    {
     "data": {
      "text/html": [
       "<pre>Number of unpacked features : 22</pre>"
      ],
      "text/plain": [
       "Number of unpacked features : 22"
      ]
     },
     "metadata": {},
     "output_type": "display_data"
    },
    {
     "data": {
      "text/html": [
       "<pre>+-----------+--------------+-------------------+---------------------+-------------------+---------------------+</pre>"
      ],
      "text/plain": [
       "+-----------+--------------+-------------------+---------------------+-------------------+---------------------+"
      ]
     },
     "metadata": {},
     "output_type": "display_data"
    },
    {
     "data": {
      "text/html": [
       "<pre>| Iteration | Elapsed Time | Training-accuracy | Validation-accuracy | Training-log_loss | Validation-log_loss |</pre>"
      ],
      "text/plain": [
       "| Iteration | Elapsed Time | Training-accuracy | Validation-accuracy | Training-log_loss | Validation-log_loss |"
      ]
     },
     "metadata": {},
     "output_type": "display_data"
    },
    {
     "data": {
      "text/html": [
       "<pre>+-----------+--------------+-------------------+---------------------+-------------------+---------------------+</pre>"
      ],
      "text/plain": [
       "+-----------+--------------+-------------------+---------------------+-------------------+---------------------+"
      ]
     },
     "metadata": {},
     "output_type": "display_data"
    },
    {
     "data": {
      "text/html": [
       "<pre>| 1         | 0.017656     | 0.999513          | 1.000000            | 0.130062          | 0.128901            |</pre>"
      ],
      "text/plain": [
       "| 1         | 0.017656     | 0.999513          | 1.000000            | 0.130062          | 0.128901            |"
      ]
     },
     "metadata": {},
     "output_type": "display_data"
    },
    {
     "data": {
      "text/html": [
       "<pre>| 2         | 0.045359     | 0.999513          | 1.000000            | 0.129975          | 0.129043            |</pre>"
      ],
      "text/plain": [
       "| 2         | 0.045359     | 0.999513          | 1.000000            | 0.129975          | 0.129043            |"
      ]
     },
     "metadata": {},
     "output_type": "display_data"
    },
    {
     "data": {
      "text/html": [
       "<pre>| 3         | 0.057199     | 0.999513          | 1.000000            | 0.130590          | 0.130200            |</pre>"
      ],
      "text/plain": [
       "| 3         | 0.057199     | 0.999513          | 1.000000            | 0.130590          | 0.130200            |"
      ]
     },
     "metadata": {},
     "output_type": "display_data"
    },
    {
     "data": {
      "text/html": [
       "<pre>| 4         | 0.066624     | 0.999513          | 1.000000            | 0.131160          | 0.131062            |</pre>"
      ],
      "text/plain": [
       "| 4         | 0.066624     | 0.999513          | 1.000000            | 0.131160          | 0.131062            |"
      ]
     },
     "metadata": {},
     "output_type": "display_data"
    },
    {
     "data": {
      "text/html": [
       "<pre>| 5         | 0.078456     | 0.999027          | 0.997006            | 0.131616          | 0.132335            |</pre>"
      ],
      "text/plain": [
       "| 5         | 0.078456     | 0.999027          | 0.997006            | 0.131616          | 0.132335            |"
      ]
     },
     "metadata": {},
     "output_type": "display_data"
    },
    {
     "data": {
      "text/html": [
       "<pre>| 6         | 0.104813     | 0.999027          | 0.997006            | 0.131411          | 0.132477            |</pre>"
      ],
      "text/plain": [
       "| 6         | 0.104813     | 0.999027          | 0.997006            | 0.131411          | 0.132477            |"
      ]
     },
     "metadata": {},
     "output_type": "display_data"
    },
    {
     "data": {
      "text/html": [
       "<pre>+-----------+--------------+-------------------+---------------------+-------------------+---------------------+</pre>"
      ],
      "text/plain": [
       "+-----------+--------------+-------------------+---------------------+-------------------+---------------------+"
      ]
     },
     "metadata": {},
     "output_type": "display_data"
    },
    {
     "name": "stdout",
     "output_type": "stream",
     "text": [
      "PROGRESS: Creating a validation set from 5 percent of training data. This may take a while.\n",
      "          You can set ``validation_set=None`` to disable validation tracking.\n",
      "\n"
     ]
    },
    {
     "data": {
      "text/html": [
       "<pre>WARNING: Detected extremely low variance for feature(s) 'veil-type' because all entries are nearly the same.\n",
       "Proceeding with model training using all features. If the model does not provide results of adequate quality, exclude the above mentioned feature(s) from the input dataset.</pre>"
      ],
      "text/plain": [
       "WARNING: Detected extremely low variance for feature(s) 'veil-type' because all entries are nearly the same.\n",
       "Proceeding with model training using all features. If the model does not provide results of adequate quality, exclude the above mentioned feature(s) from the input dataset."
      ]
     },
     "metadata": {},
     "output_type": "display_data"
    },
    {
     "data": {
      "text/html": [
       "<pre>Random forest classifier:</pre>"
      ],
      "text/plain": [
       "Random forest classifier:"
      ]
     },
     "metadata": {},
     "output_type": "display_data"
    },
    {
     "data": {
      "text/html": [
       "<pre>--------------------------------------------------------</pre>"
      ],
      "text/plain": [
       "--------------------------------------------------------"
      ]
     },
     "metadata": {},
     "output_type": "display_data"
    },
    {
     "data": {
      "text/html": [
       "<pre>Number of examples          : 6161</pre>"
      ],
      "text/plain": [
       "Number of examples          : 6161"
      ]
     },
     "metadata": {},
     "output_type": "display_data"
    },
    {
     "data": {
      "text/html": [
       "<pre>Number of classes           : 2</pre>"
      ],
      "text/plain": [
       "Number of classes           : 2"
      ]
     },
     "metadata": {},
     "output_type": "display_data"
    },
    {
     "data": {
      "text/html": [
       "<pre>Number of feature columns   : 22</pre>"
      ],
      "text/plain": [
       "Number of feature columns   : 22"
      ]
     },
     "metadata": {},
     "output_type": "display_data"
    },
    {
     "data": {
      "text/html": [
       "<pre>Number of unpacked features : 22</pre>"
      ],
      "text/plain": [
       "Number of unpacked features : 22"
      ]
     },
     "metadata": {},
     "output_type": "display_data"
    },
    {
     "data": {
      "text/html": [
       "<pre>+-----------+--------------+-------------------+---------------------+-------------------+---------------------+</pre>"
      ],
      "text/plain": [
       "+-----------+--------------+-------------------+---------------------+-------------------+---------------------+"
      ]
     },
     "metadata": {},
     "output_type": "display_data"
    },
    {
     "data": {
      "text/html": [
       "<pre>| Iteration | Elapsed Time | Training-accuracy | Validation-accuracy | Training-log_loss | Validation-log_loss |</pre>"
      ],
      "text/plain": [
       "| Iteration | Elapsed Time | Training-accuracy | Validation-accuracy | Training-log_loss | Validation-log_loss |"
      ]
     },
     "metadata": {},
     "output_type": "display_data"
    },
    {
     "data": {
      "text/html": [
       "<pre>+-----------+--------------+-------------------+---------------------+-------------------+---------------------+</pre>"
      ],
      "text/plain": [
       "+-----------+--------------+-------------------+---------------------+-------------------+---------------------+"
      ]
     },
     "metadata": {},
     "output_type": "display_data"
    },
    {
     "data": {
      "text/html": [
       "<pre>| 1         | 0.060300     | 0.999351          | 1.000000            | 0.130501          | 0.129165            |</pre>"
      ],
      "text/plain": [
       "| 1         | 0.060300     | 0.999351          | 1.000000            | 0.130501          | 0.129165            |"
      ]
     },
     "metadata": {},
     "output_type": "display_data"
    },
    {
     "data": {
      "text/html": [
       "<pre>| 2         | 0.083048     | 0.999351          | 1.000000            | 0.130146          | 0.128939            |</pre>"
      ],
      "text/plain": [
       "| 2         | 0.083048     | 0.999351          | 1.000000            | 0.130146          | 0.128939            |"
      ]
     },
     "metadata": {},
     "output_type": "display_data"
    },
    {
     "data": {
      "text/html": [
       "<pre>| 3         | 0.094020     | 0.999351          | 1.000000            | 0.130214          | 0.128933            |</pre>"
      ],
      "text/plain": [
       "| 3         | 0.094020     | 0.999351          | 1.000000            | 0.130214          | 0.128933            |"
      ]
     },
     "metadata": {},
     "output_type": "display_data"
    },
    {
     "data": {
      "text/html": [
       "<pre>| 4         | 0.107698     | 0.999026          | 1.000000            | 0.130329          | 0.129014            |</pre>"
      ],
      "text/plain": [
       "| 4         | 0.107698     | 0.999026          | 1.000000            | 0.130329          | 0.129014            |"
      ]
     },
     "metadata": {},
     "output_type": "display_data"
    },
    {
     "data": {
      "text/html": [
       "<pre>| 5         | 0.137092     | 0.999026          | 1.000000            | 0.130755          | 0.129357            |</pre>"
      ],
      "text/plain": [
       "| 5         | 0.137092     | 0.999026          | 1.000000            | 0.130755          | 0.129357            |"
      ]
     },
     "metadata": {},
     "output_type": "display_data"
    },
    {
     "data": {
      "text/html": [
       "<pre>| 6         | 0.149664     | 0.999026          | 1.000000            | 0.130716          | 0.129725            |</pre>"
      ],
      "text/plain": [
       "| 6         | 0.149664     | 0.999026          | 1.000000            | 0.130716          | 0.129725            |"
      ]
     },
     "metadata": {},
     "output_type": "display_data"
    },
    {
     "data": {
      "text/html": [
       "<pre>+-----------+--------------+-------------------+---------------------+-------------------+---------------------+</pre>"
      ],
      "text/plain": [
       "+-----------+--------------+-------------------+---------------------+-------------------+---------------------+"
      ]
     },
     "metadata": {},
     "output_type": "display_data"
    },
    {
     "name": "stdout",
     "output_type": "stream",
     "text": [
      "PROGRESS: Creating a validation set from 5 percent of training data. This may take a while.\n",
      "          You can set ``validation_set=None`` to disable validation tracking.\n",
      "\n"
     ]
    },
    {
     "data": {
      "text/html": [
       "<pre>WARNING: Detected extremely low variance for feature(s) 'veil-type' because all entries are nearly the same.\n",
       "Proceeding with model training using all features. If the model does not provide results of adequate quality, exclude the above mentioned feature(s) from the input dataset.</pre>"
      ],
      "text/plain": [
       "WARNING: Detected extremely low variance for feature(s) 'veil-type' because all entries are nearly the same.\n",
       "Proceeding with model training using all features. If the model does not provide results of adequate quality, exclude the above mentioned feature(s) from the input dataset."
      ]
     },
     "metadata": {},
     "output_type": "display_data"
    },
    {
     "data": {
      "text/html": [
       "<pre>Random forest classifier:</pre>"
      ],
      "text/plain": [
       "Random forest classifier:"
      ]
     },
     "metadata": {},
     "output_type": "display_data"
    },
    {
     "data": {
      "text/html": [
       "<pre>--------------------------------------------------------</pre>"
      ],
      "text/plain": [
       "--------------------------------------------------------"
      ]
     },
     "metadata": {},
     "output_type": "display_data"
    },
    {
     "data": {
      "text/html": [
       "<pre>Number of examples          : 6171</pre>"
      ],
      "text/plain": [
       "Number of examples          : 6171"
      ]
     },
     "metadata": {},
     "output_type": "display_data"
    },
    {
     "data": {
      "text/html": [
       "<pre>Number of classes           : 2</pre>"
      ],
      "text/plain": [
       "Number of classes           : 2"
      ]
     },
     "metadata": {},
     "output_type": "display_data"
    },
    {
     "data": {
      "text/html": [
       "<pre>Number of feature columns   : 22</pre>"
      ],
      "text/plain": [
       "Number of feature columns   : 22"
      ]
     },
     "metadata": {},
     "output_type": "display_data"
    },
    {
     "data": {
      "text/html": [
       "<pre>Number of unpacked features : 22</pre>"
      ],
      "text/plain": [
       "Number of unpacked features : 22"
      ]
     },
     "metadata": {},
     "output_type": "display_data"
    },
    {
     "data": {
      "text/html": [
       "<pre>+-----------+--------------+-------------------+---------------------+-------------------+---------------------+</pre>"
      ],
      "text/plain": [
       "+-----------+--------------+-------------------+---------------------+-------------------+---------------------+"
      ]
     },
     "metadata": {},
     "output_type": "display_data"
    },
    {
     "data": {
      "text/html": [
       "<pre>| Iteration | Elapsed Time | Training-accuracy | Validation-accuracy | Training-log_loss | Validation-log_loss |</pre>"
      ],
      "text/plain": [
       "| Iteration | Elapsed Time | Training-accuracy | Validation-accuracy | Training-log_loss | Validation-log_loss |"
      ]
     },
     "metadata": {},
     "output_type": "display_data"
    },
    {
     "data": {
      "text/html": [
       "<pre>+-----------+--------------+-------------------+---------------------+-------------------+---------------------+</pre>"
      ],
      "text/plain": [
       "+-----------+--------------+-------------------+---------------------+-------------------+---------------------+"
      ]
     },
     "metadata": {},
     "output_type": "display_data"
    },
    {
     "data": {
      "text/html": [
       "<pre>| 1         | 0.058506     | 0.989467          | 0.990881            | 0.147787          | 0.145818            |</pre>"
      ],
      "text/plain": [
       "| 1         | 0.058506     | 0.989467          | 0.990881            | 0.147787          | 0.145818            |"
      ]
     },
     "metadata": {},
     "output_type": "display_data"
    },
    {
     "data": {
      "text/html": [
       "<pre>| 2         | 0.140482     | 0.999190          | 0.996960            | 0.135495          | 0.138093            |</pre>"
      ],
      "text/plain": [
       "| 2         | 0.140482     | 0.999190          | 0.996960            | 0.135495          | 0.138093            |"
      ]
     },
     "metadata": {},
     "output_type": "display_data"
    },
    {
     "data": {
      "text/html": [
       "<pre>| 3         | 0.160886     | 0.999190          | 0.996960            | 0.136191          | 0.138336            |</pre>"
      ],
      "text/plain": [
       "| 3         | 0.160886     | 0.999190          | 0.996960            | 0.136191          | 0.138336            |"
      ]
     },
     "metadata": {},
     "output_type": "display_data"
    },
    {
     "data": {
      "text/html": [
       "<pre>| 4         | 0.170119     | 0.999190          | 0.996960            | 0.134030          | 0.137077            |</pre>"
      ],
      "text/plain": [
       "| 4         | 0.170119     | 0.999190          | 0.996960            | 0.134030          | 0.137077            |"
      ]
     },
     "metadata": {},
     "output_type": "display_data"
    },
    {
     "data": {
      "text/html": [
       "<pre>| 5         | 0.184617     | 0.999190          | 0.996960            | 0.132923          | 0.136434            |</pre>"
      ],
      "text/plain": [
       "| 5         | 0.184617     | 0.999190          | 0.996960            | 0.132923          | 0.136434            |"
      ]
     },
     "metadata": {},
     "output_type": "display_data"
    },
    {
     "data": {
      "text/html": [
       "<pre>| 6         | 0.203125     | 0.999190          | 0.996960            | 0.133543          | 0.136185            |</pre>"
      ],
      "text/plain": [
       "| 6         | 0.203125     | 0.999190          | 0.996960            | 0.133543          | 0.136185            |"
      ]
     },
     "metadata": {},
     "output_type": "display_data"
    },
    {
     "data": {
      "text/html": [
       "<pre>+-----------+--------------+-------------------+---------------------+-------------------+---------------------+</pre>"
      ],
      "text/plain": [
       "+-----------+--------------+-------------------+---------------------+-------------------+---------------------+"
      ]
     },
     "metadata": {},
     "output_type": "display_data"
    },
    {
     "name": "stdout",
     "output_type": "stream",
     "text": [
      "PROGRESS: Creating a validation set from 5 percent of training data. This may take a while.\n",
      "          You can set ``validation_set=None`` to disable validation tracking.\n",
      "\n"
     ]
    },
    {
     "data": {
      "text/html": [
       "<pre>WARNING: Detected extremely low variance for feature(s) 'veil-type' because all entries are nearly the same.\n",
       "Proceeding with model training using all features. If the model does not provide results of adequate quality, exclude the above mentioned feature(s) from the input dataset.</pre>"
      ],
      "text/plain": [
       "WARNING: Detected extremely low variance for feature(s) 'veil-type' because all entries are nearly the same.\n",
       "Proceeding with model training using all features. If the model does not provide results of adequate quality, exclude the above mentioned feature(s) from the input dataset."
      ]
     },
     "metadata": {},
     "output_type": "display_data"
    },
    {
     "data": {
      "text/html": [
       "<pre>Random forest classifier:</pre>"
      ],
      "text/plain": [
       "Random forest classifier:"
      ]
     },
     "metadata": {},
     "output_type": "display_data"
    },
    {
     "data": {
      "text/html": [
       "<pre>--------------------------------------------------------</pre>"
      ],
      "text/plain": [
       "--------------------------------------------------------"
      ]
     },
     "metadata": {},
     "output_type": "display_data"
    },
    {
     "data": {
      "text/html": [
       "<pre>Number of examples          : 6160</pre>"
      ],
      "text/plain": [
       "Number of examples          : 6160"
      ]
     },
     "metadata": {},
     "output_type": "display_data"
    },
    {
     "data": {
      "text/html": [
       "<pre>Number of classes           : 2</pre>"
      ],
      "text/plain": [
       "Number of classes           : 2"
      ]
     },
     "metadata": {},
     "output_type": "display_data"
    },
    {
     "data": {
      "text/html": [
       "<pre>Number of feature columns   : 22</pre>"
      ],
      "text/plain": [
       "Number of feature columns   : 22"
      ]
     },
     "metadata": {},
     "output_type": "display_data"
    },
    {
     "data": {
      "text/html": [
       "<pre>Number of unpacked features : 22</pre>"
      ],
      "text/plain": [
       "Number of unpacked features : 22"
      ]
     },
     "metadata": {},
     "output_type": "display_data"
    },
    {
     "data": {
      "text/html": [
       "<pre>+-----------+--------------+-------------------+---------------------+-------------------+---------------------+</pre>"
      ],
      "text/plain": [
       "+-----------+--------------+-------------------+---------------------+-------------------+---------------------+"
      ]
     },
     "metadata": {},
     "output_type": "display_data"
    },
    {
     "data": {
      "text/html": [
       "<pre>| Iteration | Elapsed Time | Training-accuracy | Validation-accuracy | Training-log_loss | Validation-log_loss |</pre>"
      ],
      "text/plain": [
       "| Iteration | Elapsed Time | Training-accuracy | Validation-accuracy | Training-log_loss | Validation-log_loss |"
      ]
     },
     "metadata": {},
     "output_type": "display_data"
    },
    {
     "data": {
      "text/html": [
       "<pre>+-----------+--------------+-------------------+---------------------+-------------------+---------------------+</pre>"
      ],
      "text/plain": [
       "+-----------+--------------+-------------------+---------------------+-------------------+---------------------+"
      ]
     },
     "metadata": {},
     "output_type": "display_data"
    },
    {
     "data": {
      "text/html": [
       "<pre>| 1         | 0.026710     | 0.992045          | 0.994118            | 0.145047          | 0.142762            |</pre>"
      ],
      "text/plain": [
       "| 1         | 0.026710     | 0.992045          | 0.994118            | 0.145047          | 0.142762            |"
      ]
     },
     "metadata": {},
     "output_type": "display_data"
    },
    {
     "data": {
      "text/html": [
       "<pre>| 2         | 0.043070     | 0.996104          | 0.997059            | 0.137479          | 0.137920            |</pre>"
      ],
      "text/plain": [
       "| 2         | 0.043070     | 0.996104          | 0.997059            | 0.137479          | 0.137920            |"
      ]
     },
     "metadata": {},
     "output_type": "display_data"
    },
    {
     "data": {
      "text/html": [
       "<pre>| 3         | 0.061908     | 0.996104          | 0.994118            | 0.137008          | 0.138364            |</pre>"
      ],
      "text/plain": [
       "| 3         | 0.061908     | 0.996104          | 0.994118            | 0.137008          | 0.138364            |"
      ]
     },
     "metadata": {},
     "output_type": "display_data"
    },
    {
     "data": {
      "text/html": [
       "<pre>| 4         | 0.077217     | 0.999675          | 1.000000            | 0.134455          | 0.135038            |</pre>"
      ],
      "text/plain": [
       "| 4         | 0.077217     | 0.999675          | 1.000000            | 0.134455          | 0.135038            |"
      ]
     },
     "metadata": {},
     "output_type": "display_data"
    },
    {
     "data": {
      "text/html": [
       "<pre>| 5         | 0.094582     | 0.999675          | 1.000000            | 0.135414          | 0.136821            |</pre>"
      ],
      "text/plain": [
       "| 5         | 0.094582     | 0.999675          | 1.000000            | 0.135414          | 0.136821            |"
      ]
     },
     "metadata": {},
     "output_type": "display_data"
    },
    {
     "data": {
      "text/html": [
       "<pre>| 6         | 0.106616     | 0.999675          | 1.000000            | 0.135097          | 0.136169            |</pre>"
      ],
      "text/plain": [
       "| 6         | 0.106616     | 0.999675          | 1.000000            | 0.135097          | 0.136169            |"
      ]
     },
     "metadata": {},
     "output_type": "display_data"
    },
    {
     "data": {
      "text/html": [
       "<pre>+-----------+--------------+-------------------+---------------------+-------------------+---------------------+</pre>"
      ],
      "text/plain": [
       "+-----------+--------------+-------------------+---------------------+-------------------+---------------------+"
      ]
     },
     "metadata": {},
     "output_type": "display_data"
    },
    {
     "data": {
      "text/plain": [
       "{'accuracy': 0.99926146248881975,\n",
       " 'auc': 0.99846808455182834,\n",
       " 'precision': 0.99857679288725765,\n",
       " 'recall': 1.0}"
      ]
     },
     "execution_count": 135,
     "metadata": {},
     "output_type": "execute_result"
    }
   ],
   "source": [
    "url = 'https://static.turi.com/datasets/xgboost/mushroom.csv'\n",
    "sf = tc.SFrame.read_csv(url)\n",
    "sf['label'] = (sf['label'] == 'p')\n",
    "params = {'target': 'label'}\n",
    "sf = shuffle_sframe(sf)\n",
    "folds = split_stratified_kfold(sf,'label', 5)\n",
    "cross_validate(folds, tc.random_forest_classifier.create, params, label='label')"
   ]
  },
  {
   "cell_type": "code",
   "execution_count": null,
   "metadata": {},
   "outputs": [],
   "source": []
  }
 ],
 "metadata": {
  "kernelspec": {
   "display_name": "Python 2",
   "language": "python",
   "name": "python2"
  },
  "language_info": {
   "codemirror_mode": {
    "name": "ipython",
    "version": 2
   },
   "file_extension": ".py",
   "mimetype": "text/x-python",
   "name": "python",
   "nbconvert_exporter": "python",
   "pygments_lexer": "ipython2",
   "version": "2.7.13"
  },
  "varInspector": {
   "cols": {
    "lenName": 16,
    "lenType": 16,
    "lenVar": 40
   },
   "kernels_config": {
    "python": {
     "delete_cmd_postfix": "",
     "delete_cmd_prefix": "del ",
     "library": "var_list.py",
     "varRefreshCmd": "print(var_dic_list())"
    },
    "r": {
     "delete_cmd_postfix": ") ",
     "delete_cmd_prefix": "rm(",
     "library": "var_list.r",
     "varRefreshCmd": "cat(var_dic_list()) "
    }
   },
   "types_to_exclude": [
    "module",
    "function",
    "builtin_function_or_method",
    "instance",
    "_Feature"
   ],
   "window_display": false
  }
 },
 "nbformat": 4,
 "nbformat_minor": 2
}
